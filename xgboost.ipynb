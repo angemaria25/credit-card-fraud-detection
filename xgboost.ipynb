{
 "cells": [
  {
   "cell_type": "code",
   "execution_count": 19,
   "id": "8afe2d4b",
   "metadata": {},
   "outputs": [],
   "source": [
    "import xgboost as xgb\n",
    "from imblearn.pipeline import Pipeline\n",
    "from imblearn.over_sampling import SMOTE\n",
    "from sklearn.preprocessing import StandardScaler\n",
    "from sklearn.model_selection import RandomizedSearchCV \n",
    "from sklearn.metrics import make_scorer, f1_score, recall_score, precision_score, roc_auc_score, confusion_matrix, classification_report\n",
    "from sklearn.metrics import make_scorer, f1_score, recall_score, precision_score, roc_auc_score, confusion_matrix, classification_report, precision_recall_curve \n",
    "import numpy as np\n",
    "import pandas as pd\n",
    "import matplotlib.pyplot as plt \n",
    "\n",
    "from preprocess import cargar_y_preprocesar_datos\n",
    "from utils import print_score "
   ]
  },
  {
   "cell_type": "code",
   "execution_count": 12,
   "id": "7b1d304e",
   "metadata": {},
   "outputs": [],
   "source": [
    "ruta = \"./data/credit_card_fraud_dataset.csv\"\n",
    "X_train, X_val, X_test, y_train, y_val, y_test = cargar_y_preprocesar_datos(ruta)"
   ]
  },
  {
   "cell_type": "code",
   "execution_count": 15,
   "id": "02defb28",
   "metadata": {},
   "outputs": [
    {
     "name": "stdout",
     "output_type": "stream",
     "text": [
      "Tamaño de X_train: (60000, 15), y_train: (60000,)\n",
      "Tamaño de X_val: (20000, 15), y_val: (20000,)\n",
      "Número de fraudes en y_train: 600 (1.00%)\n",
      "Número de fraudes en y_val: 200 (1.00%)\n"
     ]
    }
   ],
   "source": [
    "print(f\"Tamaño de X_train: {X_train.shape}, y_train: {y_train.shape}\")\n",
    "print(f\"Tamaño de X_val: {X_val.shape}, y_val: {y_val.shape}\")\n",
    "print(f\"Número de fraudes en y_train: {y_train.sum()} ({y_train.sum()/len(y_train)*100:.2f}%)\")\n",
    "print(f\"Número de fraudes en y_val: {y_val.sum()} ({y_val.sum()/len(y_val)*100:.2f}%)\")"
   ]
  },
  {
   "cell_type": "code",
   "execution_count": 16,
   "id": "0c5cc6c1",
   "metadata": {},
   "outputs": [
    {
     "name": "stdout",
     "output_type": "stream",
     "text": [
      "scale_pos_weight inicial calculado: 99.00\n"
     ]
    }
   ],
   "source": [
    "# Calcular scale_pos_weight para el set de entrenamiento ORIGINAL\n",
    "# Este parámetro es crucial en XGBoost para manejar el desbalance.\n",
    "# Se recomienda usarlo incluso si también usas SMOTE, ya que SMOTE crea ejemplos sintéticos,\n",
    "# pero scale_pos_weight ajusta los pesos de las clases para las muestras reales durante el entrenamiento.\n",
    "neg_count = (y_train == 0).sum()\n",
    "pos_count = (y_train == 1).sum()\n",
    "initial_scale_pos_weight = neg_count / pos_count\n",
    "print(f\"scale_pos_weight inicial calculado: {initial_scale_pos_weight:.2f}\")\n",
    "\n",
    "# Definimos el pipeline\n",
    "pipeline_xgb = Pipeline([\n",
    "    ('scaler', StandardScaler()),\n",
    "    ('smote', SMOTE(random_state=42)), # Aplicamos SMOTE para generar muestras sintéticas de la clase minoritaria\n",
    "    ('xgb', xgb.XGBClassifier(\n",
    "        random_state=42,\n",
    "        eval_metric='logloss',       # Métrica de evaluación para el entrenamiento interno de XGBoost\n",
    "        use_label_encoder=False,     # Para evitar un warning futuro\n",
    "        # Podemos incluir scale_pos_weight aquí, o tunearlo en el grid de RandomizedSearchCV\n",
    "        # Si SMOTE está en el pipeline y se ejecuta antes, el ratio de clases para XGBoost ya está balanceado.\n",
    "        # Por simplicidad, podemos dejar que SMOTE maneje la proporción o ajustar ligeramente el peso.\n",
    "        # Por ahora, no lo pondremos aquí para que lo tunee RandomizedSearchCV.\n",
    "    ))\n",
    "])"
   ]
  },
  {
   "cell_type": "markdown",
   "id": "d6853626",
   "metadata": {},
   "source": [
    "##### Ajuste de hiperpárametros"
   ]
  },
  {
   "cell_type": "code",
   "execution_count": 17,
   "id": "c17cc012",
   "metadata": {},
   "outputs": [
    {
     "name": "stdout",
     "output_type": "stream",
     "text": [
      "Iniciando RandomizedSearchCV para XGBoost...\n",
      "Fitting 3 folds for each of 50 candidates, totalling 150 fits\n"
     ]
    },
    {
     "name": "stderr",
     "output_type": "stream",
     "text": [
      "c:\\Users\\Angelica\\AppData\\Local\\Programs\\Python\\Python312\\Lib\\site-packages\\xgboost\\training.py:183: UserWarning: [05:14:46] WARNING: C:\\actions-runner\\_work\\xgboost\\xgboost\\src\\learner.cc:738: \n",
      "Parameters: { \"use_label_encoder\" } are not used.\n",
      "\n",
      "  bst.update(dtrain, iteration=i, fobj=obj)\n"
     ]
    },
    {
     "name": "stdout",
     "output_type": "stream",
     "text": [
      "\n",
      "--- Resultados de RandomizedSearchCV ---\n",
      "Mejor F1-score de validación cruzada: 0.0203\n",
      "Mejores parámetros encontrados: {'xgb__subsample': 0.8, 'xgb__n_estimators': 200, 'xgb__max_depth': 5, 'xgb__learning_rate': 0.01, 'xgb__lambda': 2, 'xgb__gamma': 0, 'xgb__colsample_bytree': 0.8, 'xgb__alpha': 0, 'smote__sampling_strategy': 1.0}\n"
     ]
    }
   ],
   "source": [
    "param_distributions_xgb = {\n",
    "    'xgb__n_estimators': [100, 200, 300, 400], # Número de árboles\n",
    "    'xgb__learning_rate': [0.01, 0.05, 0.1, 0.2], # Tasa de aprendizaje\n",
    "    'xgb__max_depth': [3, 5, 7, 9], # Profundidad máxima de cada árbol\n",
    "    'xgb__subsample': [0.6, 0.8, 1.0], # Submuestreo de filas antes de construir cada árbol\n",
    "    'xgb__colsample_bytree': [0.6, 0.8, 1.0], # Submuestreo de columnas antes de construir cada árbol\n",
    "    'xgb__gamma': [0, 0.1, 0.2], # Mínima pérdida de reducción para hacer una partición\n",
    "    'xgb__lambda': [1, 2], # Regularización L2\n",
    "    'xgb__alpha': [0, 0.1], # Regularización L1\n",
    "    # 'xgb__scale_pos_weight': [1, initial_scale_pos_weight, initial_scale_pos_weight * 0.5, initial_scale_pos_weight * 2],\n",
    "    # Si SMOTE ya está en el pipeline, scale_pos_weight no es tan crítico o podría ser 1.\n",
    "    # Si quieres que XGBoost maneje el desbalance, quitar SMOTE del pipeline y tunear solo scale_pos_weight.\n",
    "    # Por ahora, dejemos SMOTE en el pipeline y no tuneemos scale_pos_weight explícitamente en el grid si SMOTE está.\n",
    "    # Si pruebas sin SMOTE en el pipeline, entonces es CRÍTICO tunear scale_pos_weight.\n",
    "\n",
    "    # También puedes tunear el sampling_strategy de SMOTE si quieres\n",
    "    'smote__sampling_strategy': [0.1, 0.2, 0.3, 0.5, 0.7, 1.0] # Proporción de la clase minoritaria después de SMOTE\n",
    "}\n",
    "\n",
    "# Define la métrica de scoring. Para fraude, F1-score o Recall de la clase 1 son las más importantes.\n",
    "# Usaremos F1-score para la clase 1 (fraude)\n",
    "scorer = make_scorer(f1_score, pos_label=1)\n",
    "\n",
    "random_search_xgb = RandomizedSearchCV(\n",
    "    pipeline_xgb,\n",
    "    param_distributions=param_distributions_xgb,\n",
    "    n_iter=50, # Número de combinaciones a probar. Ajusta según tu tiempo y capacidad de cómputo. Más es mejor.\n",
    "    cv=3,       # Folds de validación cruzada. 3 o 5 son comunes.\n",
    "    scoring=scorer,\n",
    "    random_state=42,\n",
    "    n_jobs=-1,  # Usa todos los núcleos de CPU disponibles para acelerar el proceso\n",
    "    verbose=2   # Para ver el progreso detallado\n",
    ")\n",
    "\n",
    "print(\"Iniciando RandomizedSearchCV para XGBoost...\")\n",
    "# Entrenamos el RandomizedSearchCV. ¡Esto puede tomar tiempo!\n",
    "random_search_xgb.fit(X_train, y_train)\n",
    "\n",
    "print(\"\\n--- Resultados de RandomizedSearchCV ---\")\n",
    "print(f\"Mejor F1-score de validación cruzada: {random_search_xgb.best_score_:.4f}\")\n",
    "print(f\"Mejores parámetros encontrados: {random_search_xgb.best_params_}\")\n",
    "\n",
    "# El mejor modelo entrenado\n",
    "best_xgb_model = random_search_xgb.best_estimator_"
   ]
  },
  {
   "cell_type": "markdown",
   "id": "a3b07bcd",
   "metadata": {},
   "source": [
    "Evaluación Final del Modelo XGBoost y Ajuste del Umbral"
   ]
  },
  {
   "cell_type": "code",
   "execution_count": null,
   "id": "419f1711",
   "metadata": {},
   "outputs": [
    {
     "name": "stdout",
     "output_type": "stream",
     "text": [
      "\n",
      "--- Umbral de Decisión Optimizado ---\n",
      "Mejor F1-score en validación (con umbral optimizado): 0.0245\n",
      "Umbral óptimo para F1-score: 0.4427\n",
      "\n",
      "--- Evaluación Final de XGBoost en Validación (con Umbral Ajustado) ---\n",
      "Matriz de Confusión:\n",
      "[[17101  2699]\n",
      " [  164    36]]\n",
      "\n",
      "Reporte de Clasificación:\n",
      "              precision    recall  f1-score   support\n",
      "\n",
      "           0       0.99      0.86      0.92     19800\n",
      "           1       0.01      0.18      0.02       200\n",
      "\n",
      "    accuracy                           0.86     20000\n",
      "   macro avg       0.50      0.52      0.47     20000\n",
      "weighted avg       0.98      0.86      0.91     20000\n",
      "\n",
      "ROC AUC Score: 0.4871\n"
     ]
    },
    {
     "data": {
      "image/png": "[encoded data removed]",
      "text/plain": [
       "<Figure size 800x600 with 1 Axes>"
      ]
     },
     "metadata": {},
     "output_type": "display_data"
    }
   ],
   "source": [
    "y_scores_xgb = best_xgb_model.predict_proba(X_val)[:, 1]\n",
    "\n",
    "precisions, recalls, thresholds = precision_recall_curve(y_val, y_scores_xgb)\n",
    "\n",
    "# 3. Encontrar el umbral óptimo\n",
    "# Aquí puedes decidir qué priorizar:\n",
    "# a) Maximizar F1-score (equilibrio)\n",
    "# b) Maximizar Recall (detectar más fraudes, a riesgo de más FPs)\n",
    "# c) Un F-beta score específico (ej. F2-score si Recall es el doble de importante que Precision)\n",
    "\n",
    "best_f1_val = 0\n",
    "optimal_threshold = 0.5 \n",
    "\n",
    "for i in range(len(thresholds)):\n",
    "    if (precisions[i] + recalls[i]) == 0:\n",
    "        continue\n",
    "    current_f1 = 2 * (precisions[i] * recalls[i]) / (precisions[i] + recalls[i])\n",
    "    if current_f1 > best_f1_val:\n",
    "        best_f1_val = current_f1\n",
    "        optimal_threshold = thresholds[i]\n",
    "\n",
    "print(f\"\\n--- Umbral de Decisión Optimizado ---\")\n",
    "print(f\"Mejor F1-score en validación (con umbral optimizado): {best_f1_val:.4f}\")\n",
    "print(f\"Umbral óptimo para F1-score: {optimal_threshold:.4f}\")\n",
    "\n",
    "y_pred_xgb_optimized = (y_scores_xgb >= optimal_threshold).astype(int)\n",
    "\n",
    "print(\"\\n--- Evaluación Final de XGBoost en Validación (con Umbral Ajustado) ---\")\n",
    "print(\"Matriz de Confusión:\")\n",
    "print(confusion_matrix(y_val, y_pred_xgb_optimized))\n",
    "print(\"\\nReporte de Clasificación:\")\n",
    "print(classification_report(y_val, y_pred_xgb_optimized))\n",
    "\n",
    "roc_auc = roc_auc_score(y_val, y_scores_xgb)\n",
    "print(f\"ROC AUC Score: {roc_auc:.4f}\")\n",
    "\n",
    "plt.figure(figsize=(8, 6))\n",
    "plt.plot(recalls, precisions, marker='.')\n",
    "plt.title('Curva Precision-Recall para XGBoost')\n",
    "plt.xlabel('Recall')\n",
    "plt.ylabel('Precision')\n",
    "plt.grid(True)\n",
    "plt.show()"
   ]
  }
 ],
 "metadata": {
  "kernelspec": {
   "display_name": "Python 3",
   "language": "python",
   "name": "python3"
  },
  "language_info": {
   "codemirror_mode": {
    "name": "ipython",
    "version": 3
   },
   "file_extension": ".py",
   "mimetype": "text/x-python",
   "name": "python",
   "nbconvert_exporter": "python",
   "pygments_lexer": "ipython3",
   "version": "3.12.3"
  }
 },
 "nbformat": 4,
 "nbformat_minor": 5
}
