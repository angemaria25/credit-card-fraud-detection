{
 "cells": [
  {
   "cell_type": "code",
   "execution_count": 51,
   "metadata": {},
   "outputs": [],
   "source": [
    "from preprocess import cargar_y_preprocesar_datos\n",
    "from utils import print_score\n",
    "from sklearn.linear_model import LogisticRegression\n",
    "from sklearn.metrics import classification_report, confusion_matrix, precision_recall_curve, roc_auc_score, f1_score\n",
    "from imblearn.pipeline import Pipeline\n",
    "from imblearn.over_sampling import SMOTE\n",
    "from imblearn.under_sampling import RandomUnderSampler\n",
    "import pandas as pd\n",
    "import numpy as np\n",
    "import matplotlib.pyplot as plt"
   ]
  },
  {
   "cell_type": "code",
   "execution_count": 52,
   "metadata": {},
   "outputs": [],
   "source": [
    "ruta = \"./data/credit_card_fraud_dataset.csv\"\n",
    "X_train, X_val, X_test, y_train, y_val, y_test = cargar_y_preprocesar_datos(ruta)"
   ]
  },
  {
   "cell_type": "code",
   "execution_count": 53,
   "metadata": {},
   "outputs": [
    {
     "name": "stdout",
     "output_type": "stream",
     "text": [
      "--- Formas de los conjuntos de datos ---\n",
      "X_train: (60000, 15), y_train: (60000,)\n",
      "X_val:   (20000, 15), y_val:   (20000,)\n",
      "X_test:  (20000, 15), y_test:  (20000,)\n",
      "\n",
      "Distribución de clases en el conjunto de entrenamiento:\n",
      "IsFraud\n",
      "0    59400\n",
      "1      600\n",
      "Name: count, dtype: int64\n"
     ]
    }
   ],
   "source": [
    "print(\"--- Formas de los conjuntos de datos ---\")\n",
    "print(f\"X_train: {X_train.shape}, y_train: {y_train.shape}\")\n",
    "print(f\"X_val:   {X_val.shape}, y_val:   {y_val.shape}\")\n",
    "print(f\"X_test:  {X_test.shape}, y_test:  {y_test.shape}\")\n",
    "print(\"\\nDistribución de clases en el conjunto de entrenamiento:\")\n",
    "print(y_train.value_counts())"
   ]
  },
  {
   "cell_type": "markdown",
   "metadata": {},
   "source": [
    "Modelo Base (Sin manejo de desbalanceo) \n",
    "\n",
    "Este modelo sirve como punto de referencia para medir las mejoras."
   ]
  },
  {
   "cell_type": "code",
   "execution_count": 54,
   "metadata": {},
   "outputs": [
    {
     "name": "stdout",
     "output_type": "stream",
     "text": [
      "\n",
      "--- Evaluación del Modelo Base en el conjunto de Validación ---\n",
      "Matriz de Confusión:\n",
      "[[19800     0]\n",
      " [  200     0]]\n",
      "\n",
      "Reporte de Clasificación:\n",
      "              precision    recall  f1-score   support\n",
      "\n",
      "           0       0.99      1.00      0.99     19800\n",
      "           1       0.00      0.00      0.00       200\n",
      "\n",
      "    accuracy                           0.99     20000\n",
      "   macro avg       0.49      0.50      0.50     20000\n",
      "weighted avg       0.98      0.99      0.99     20000\n",
      "\n",
      "El modelo base ignora por completo la clase minoritaria (fraude) y predice siempre 'no fraude'.\n",
      "Aunque la exactitud (accuracy) es alta (99%), el modelo es inútil para nuestro objetivo.\n"
     ]
    }
   ],
   "source": [
    "modelo_base = LogisticRegression(solver='liblinear', random_state=42)\n",
    "modelo_base.fit(X_train, y_train)\n",
    "\n",
    "print(\"\\n--- Evaluación del Modelo Base en el conjunto de Validación ---\")\n",
    "y_pred_base = modelo_base.predict(X_val)\n",
    "print(\"Matriz de Confusión:\")\n",
    "print(confusion_matrix(y_val, y_pred_base))\n",
    "print(\"\\nReporte de Clasificación:\")\n",
    "\n",
    "print(classification_report(y_val, y_pred_base, zero_division=0))\n",
    "print(\"El modelo base ignora por completo la clase minoritaria (fraude) y predice siempre 'no fraude'.\")\n",
    "print(\"Aunque la exactitud (accuracy) es alta (99%), el modelo es inútil para nuestro objetivo.\")"
   ]
  },
  {
   "cell_type": "markdown",
   "metadata": {},
   "source": [
    "Primera Solución: Ponderación de Clases\n",
    "\n",
    "Se utiliza **class_weight='balanced'** para penalizar más los errores en la clase minoritaria."
   ]
  },
  {
   "cell_type": "code",
   "execution_count": 55,
   "metadata": {},
   "outputs": [
    {
     "name": "stdout",
     "output_type": "stream",
     "text": [
      "\n",
      "--- Evaluación del Modelo con Ponderación en Validación ---\n",
      "Matriz de Confusión:\n",
      "[[10023  9777]\n",
      " [   91   109]]\n",
      "\n",
      "Reporte de Clasificación:\n",
      "              precision    recall  f1-score   support\n",
      "\n",
      "           0       0.99      0.51      0.67     19800\n",
      "           1       0.01      0.55      0.02       200\n",
      "\n",
      "    accuracy                           0.51     20000\n",
      "   macro avg       0.50      0.53      0.35     20000\n",
      "weighted avg       0.98      0.51      0.66     20000\n",
      "\n",
      "El modelo ahora detecta algunos fraudes (aumenta el recall), pero a costa de muchísimos falsos positivos (precisión muy baja).\n"
     ]
    }
   ],
   "source": [
    "modelo_balanceado = LogisticRegression(class_weight='balanced', solver='liblinear', random_state=42)\n",
    "modelo_balanceado.fit(X_train, y_train)\n",
    "\n",
    "print(\"\\n--- Evaluación del Modelo con Ponderación en Validación ---\")\n",
    "y_pred_balanceado = modelo_balanceado.predict(X_val)\n",
    "print(\"Matriz de Confusión:\")\n",
    "print(confusion_matrix(y_val, y_pred_balanceado))\n",
    "print(\"\\nReporte de Clasificación:\")\n",
    "print(classification_report(y_val, y_pred_balanceado))\n",
    "print(\"El modelo ahora detecta algunos fraudes (aumenta el recall), pero a costa de muchísimos falsos positivos (precisión muy baja).\")"
   ]
  },
  {
   "cell_type": "markdown",
   "metadata": {},
   "source": [
    "Solución Avanzada: Pipeline con SMOTE y Submuestreo \n",
    "\n",
    "Para un mejor control, creamos un pipeline que primero aplica SMOTE para generar muestras sintéticas de la clase minoritaria, y luego aplica submuestreo aleatorio para reducir la clase mayoritaria.\n",
    "\n",
    "Usar un pipeline de `imblearn` es crucial para evitar el \"data leakage\", ya que el remuestreo se ajusta solo a los datos de entrenamiento durante el `fit`."
   ]
  },
  {
   "cell_type": "code",
   "execution_count": 56,
   "metadata": {},
   "outputs": [
    {
     "name": "stdout",
     "output_type": "stream",
     "text": [
      "\n",
      "--- Evaluación del Pipeline en Validación (con umbral por defecto 0.5) ---\n",
      "Matriz de Confusión:\n",
      "[[19800     0]\n",
      " [  200     0]]\n",
      "\n",
      "Reporte de Clasificación:\n",
      "              precision    recall  f1-score   support\n",
      "\n",
      "           0       0.99      1.00      0.99     19800\n",
      "           1       0.00      0.00      0.00       200\n",
      "\n",
      "    accuracy                           0.99     20000\n",
      "   macro avg       0.49      0.50      0.50     20000\n",
      "weighted avg       0.98      0.99      0.99     20000\n",
      "\n",
      "Este modelo ofrece un mejor punto de partida que las soluciones anteriores.\n"
     ]
    },
    {
     "name": "stderr",
     "output_type": "stream",
     "text": [
      "c:\\Users\\Angelica\\AppData\\Local\\Programs\\Python\\Python312\\Lib\\site-packages\\sklearn\\metrics\\_classification.py:1565: UndefinedMetricWarning: Precision is ill-defined and being set to 0.0 in labels with no predicted samples. Use `zero_division` parameter to control this behavior.\n",
      "  _warn_prf(average, modifier, f\"{metric.capitalize()} is\", len(result))\n",
      "c:\\Users\\Angelica\\AppData\\Local\\Programs\\Python\\Python312\\Lib\\site-packages\\sklearn\\metrics\\_classification.py:1565: UndefinedMetricWarning: Precision is ill-defined and being set to 0.0 in labels with no predicted samples. Use `zero_division` parameter to control this behavior.\n",
      "  _warn_prf(average, modifier, f\"{metric.capitalize()} is\", len(result))\n",
      "c:\\Users\\Angelica\\AppData\\Local\\Programs\\Python\\Python312\\Lib\\site-packages\\sklearn\\metrics\\_classification.py:1565: UndefinedMetricWarning: Precision is ill-defined and being set to 0.0 in labels with no predicted samples. Use `zero_division` parameter to control this behavior.\n",
      "  _warn_prf(average, modifier, f\"{metric.capitalize()} is\", len(result))\n"
     ]
    }
   ],
   "source": [
    "# Definición del pipeline\n",
    "# 1. SMOTE: Aumenta la clase minoritaria hasta que represente el 10% de la clase mayoritaria.\n",
    "# 2. RandomUnderSampler: Reduce la clase mayoritaria hasta que sea el 50% de la minoritaria.\n",
    "# 3. LogisticRegression: El modelo se entrena sobre los datos ya rebalanceados. NO se usa class_weight.\n",
    "pipeline_resampling = Pipeline([\n",
    "    ('oversample', SMOTE(sampling_strategy=0.2, random_state=42)),\n",
    "    ('undersample', RandomUnderSampler(sampling_strategy=0.5, random_state=42)),\n",
    "    ('model', LogisticRegression(solver='liblinear', random_state=42))\n",
    "])\n",
    "\n",
    "pipeline_resampling.fit(X_train, y_train)\n",
    "\n",
    "print(\"\\n--- Evaluación del Pipeline en Validación (con umbral por defecto 0.5) ---\")\n",
    "y_pred_pipeline = pipeline_resampling.predict(X_val)\n",
    "print(\"Matriz de Confusión:\")\n",
    "print(confusion_matrix(y_val, y_pred_pipeline))\n",
    "print(\"\\nReporte de Clasificación:\")\n",
    "print(classification_report(y_val, y_pred_pipeline))\n",
    "print(\"Este modelo ofrece un mejor punto de partida que las soluciones anteriores.\")"
   ]
  },
  {
   "cell_type": "markdown",
   "metadata": {},
   "source": [
    "Ajuste del Umbral de Decisión\n",
    "\n",
    "Ahora que tenemos un modelo más robusto, podemos ajustar el umbral de probabilidad para optimizar el balance entre precisión y recall, buscando maximizar el F1-score.\n"
   ]
  },
  {
   "cell_type": "code",
   "execution_count": 57,
   "metadata": {},
   "outputs": [
    {
     "name": "stdout",
     "output_type": "stream",
     "text": [
      "\n",
      "\n",
      "--- 5. Ajustando el umbral de decisión del modelo del pipeline ---\n",
      "Mejor umbral encontrado: 0.2034\n",
      "F1-Score máximo en validación: 0.0237\n"
     ]
    },
    {
     "data": {
      "image/png": "[encoded data removed]",
      "text/plain": [
       "<Figure size 1000x600 with 1 Axes>"
      ]
     },
     "metadata": {},
     "output_type": "display_data"
    }
   ],
   "source": [
    "print(\"\\n\\n--- 5. Ajustando el umbral de decisión del modelo del pipeline ---\")\n",
    "# Obtener probabilidades para la clase positiva (fraude)\n",
    "y_scores = pipeline_resampling.predict_proba(X_val)[:, 1]\n",
    "\n",
    "# Calcular precisión, recall y umbrales\n",
    "precisions, recalls, thresholds = precision_recall_curve(y_val, y_scores)\n",
    "\n",
    "# Calcular F1-scores para cada umbral (evitando división por cero)\n",
    "# Se suma una pequeña constante (epsilon) para evitar el warning de división por cero\n",
    "epsilon = 1e-7\n",
    "f1_scores = 2 * (precisions * recalls) / (precisions + recalls + epsilon)\n",
    "\n",
    "# Encontrar el mejor umbral que maximiza el F1-score\n",
    "best_threshold_idx = np.argmax(f1_scores)\n",
    "best_threshold = thresholds[best_threshold_idx]\n",
    "\n",
    "print(f\"Mejor umbral encontrado: {best_threshold:.4f}\")\n",
    "print(f\"F1-Score máximo en validación: {f1_scores[best_threshold_idx]:.4f}\")\n",
    "\n",
    "# Visualización de la curva de Precisión-Recall vs Umbral\n",
    "plt.figure(figsize=(10, 6))\n",
    "plt.plot(thresholds, precisions[:-1], \"b--\", label=\"Precisión\")\n",
    "plt.plot(thresholds, recalls[:-1], \"g-\", label=\"Recall\")\n",
    "plt.plot(thresholds, f1_scores[:-1], \"m-\", label=\"F1-Score\", alpha=0.6)\n",
    "plt.axvline(best_threshold, color='r', linestyle='--', label=f'Mejor Umbral (F1 Max) = {best_threshold:.2f}')\n",
    "plt.title(\"Precisión, Recall y F1-Score vs. Umbral de Decisión\")\n",
    "plt.xlabel(\"Umbral\")\n",
    "plt.ylabel(\"Puntuación\")\n",
    "plt.grid(True)\n",
    "plt.legend()\n",
    "plt.show()\n",
    "\n"
   ]
  },
  {
   "cell_type": "code",
   "execution_count": 58,
   "metadata": {},
   "outputs": [
    {
     "name": "stdout",
     "output_type": "stream",
     "text": [
      "\n",
      "\n",
      "--- 6. Evaluación Final del Pipeline en Validación con Umbral Optimizado ---\n",
      "Matriz de Confusión Final:\n",
      "[[13657  6143]\n",
      " [  124    76]]\n",
      "\n",
      "Reporte de Clasificación Final:\n",
      "              precision    recall  f1-score   support\n",
      "\n",
      "           0       0.99      0.69      0.81     19800\n",
      "           1       0.01      0.38      0.02       200\n",
      "\n",
      "    accuracy                           0.69     20000\n",
      "   macro avg       0.50      0.53      0.42     20000\n",
      "weighted avg       0.98      0.69      0.81     20000\n",
      "\n",
      "ROC AUC Score: 0.5361\n",
      "\n",
      "Conclusión: El modelo final, que combina un pipeline de remuestreo y un ajuste de umbral,\n",
      "logra un equilibrio mucho más razonable para la detección de fraude, mejorando significativamente\n",
      "el recall de la clase minoritaria sin sacrificar por completo la precisión.\n"
     ]
    }
   ],
   "source": [
    "# --- 6. Evaluación Final con el Umbral Optimizado ---\n",
    "# Usamos el mejor umbral para hacer las predicciones finales en el conjunto de validación.\n",
    "\n",
    "print(\"\\n\\n--- 6. Evaluación Final del Pipeline en Validación con Umbral Optimizado ---\")\n",
    "y_pred_final = (y_scores >= best_threshold).astype(int)\n",
    "\n",
    "print(\"Matriz de Confusión Final:\")\n",
    "print(confusion_matrix(y_val, y_pred_final))\n",
    "print(\"\\nReporte de Clasificación Final:\")\n",
    "print(classification_report(y_val, y_pred_final))\n",
    "\n",
    "roc_auc = roc_auc_score(y_val, y_scores)\n",
    "print(f\"ROC AUC Score: {roc_auc:.4f}\")"
   ]
  }
 ],
 "metadata": {
  "kernelspec": {
   "display_name": "Python 3",
   "language": "python",
   "name": "python3"
  },
  "language_info": {
   "codemirror_mode": {
    "name": "ipython",
    "version": 3
   },
   "file_extension": ".py",
   "mimetype": "text/x-python",
   "name": "python",
   "nbconvert_exporter": "python",
   "pygments_lexer": "ipython3",
   "version": "3.12.3"
  }
 },
 "nbformat": 4,
 "nbformat_minor": 2
}
