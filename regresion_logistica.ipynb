{
 "cells": [
  {
   "cell_type": "code",
   "execution_count": 10,
   "metadata": {},
   "outputs": [],
   "source": [
    "from preprocess import cargar_y_preprocesar_datos\n",
    "from utils import print_score\n",
    "from sklearn.linear_model import LogisticRegression"
   ]
  },
  {
   "cell_type": "code",
   "execution_count": 11,
   "metadata": {},
   "outputs": [],
   "source": [
    "ruta = \"./data/credit_card_fraud_dataset.csv\"\n",
    "X_train, X_val, X_test, y_train, y_val, y_test = cargar_y_preprocesar_datos(ruta)"
   ]
  },
  {
   "cell_type": "code",
   "execution_count": 12,
   "metadata": {},
   "outputs": [
    {
     "name": "stdout",
     "output_type": "stream",
     "text": [
      "Train Result:\n",
      "================================================\n",
      "Accuracy Score: 99.00%\n",
      "_______________________________________________\n",
      "CLASSIFICATION REPORT:\n",
      "                      0      1  accuracy     macro avg  weighted avg\n",
      "precision      0.990000    0.0      0.99      0.495000      0.980100\n",
      "recall         1.000000    0.0      0.99      0.500000      0.990000\n",
      "f1-score       0.994975    0.0      0.99      0.497487      0.985025\n",
      "support    59400.000000  600.0      0.99  60000.000000  60000.000000\n",
      "_______________________________________________\n",
      "Confusion Matrix: \n",
      " [[59400     0]\n",
      " [  600     0]]\n",
      "\n",
      "Test Result:\n",
      "================================================\n",
      "Accuracy Score: 99.00%\n",
      "_______________________________________________\n",
      "CLASSIFICATION REPORT:\n",
      "                      0      1  accuracy     macro avg  weighted avg\n",
      "precision      0.990000    0.0      0.99      0.495000      0.980100\n",
      "recall         1.000000    0.0      0.99      0.500000      0.990000\n",
      "f1-score       0.994975    0.0      0.99      0.497487      0.985025\n",
      "support    19800.000000  200.0      0.99  20000.000000  20000.000000\n",
      "_______________________________________________\n",
      "Confusion Matrix: \n",
      " [[19800     0]\n",
      " [  200     0]]\n",
      "\n"
     ]
    },
    {
     "name": "stderr",
     "output_type": "stream",
     "text": [
      "c:\\Users\\Angelica\\AppData\\Local\\Programs\\Python\\Python312\\Lib\\site-packages\\sklearn\\metrics\\_classification.py:1565: UndefinedMetricWarning: Precision is ill-defined and being set to 0.0 in labels with no predicted samples. Use `zero_division` parameter to control this behavior.\n",
      "  _warn_prf(average, modifier, f\"{metric.capitalize()} is\", len(result))\n",
      "c:\\Users\\Angelica\\AppData\\Local\\Programs\\Python\\Python312\\Lib\\site-packages\\sklearn\\metrics\\_classification.py:1565: UndefinedMetricWarning: Precision is ill-defined and being set to 0.0 in labels with no predicted samples. Use `zero_division` parameter to control this behavior.\n",
      "  _warn_prf(average, modifier, f\"{metric.capitalize()} is\", len(result))\n",
      "c:\\Users\\Angelica\\AppData\\Local\\Programs\\Python\\Python312\\Lib\\site-packages\\sklearn\\metrics\\_classification.py:1565: UndefinedMetricWarning: Precision is ill-defined and being set to 0.0 in labels with no predicted samples. Use `zero_division` parameter to control this behavior.\n",
      "  _warn_prf(average, modifier, f\"{metric.capitalize()} is\", len(result))\n",
      "c:\\Users\\Angelica\\AppData\\Local\\Programs\\Python\\Python312\\Lib\\site-packages\\sklearn\\metrics\\_classification.py:1565: UndefinedMetricWarning: Precision is ill-defined and being set to 0.0 in labels with no predicted samples. Use `zero_division` parameter to control this behavior.\n",
      "  _warn_prf(average, modifier, f\"{metric.capitalize()} is\", len(result))\n",
      "c:\\Users\\Angelica\\AppData\\Local\\Programs\\Python\\Python312\\Lib\\site-packages\\sklearn\\metrics\\_classification.py:1565: UndefinedMetricWarning: Precision is ill-defined and being set to 0.0 in labels with no predicted samples. Use `zero_division` parameter to control this behavior.\n",
      "  _warn_prf(average, modifier, f\"{metric.capitalize()} is\", len(result))\n",
      "c:\\Users\\Angelica\\AppData\\Local\\Programs\\Python\\Python312\\Lib\\site-packages\\sklearn\\metrics\\_classification.py:1565: UndefinedMetricWarning: Precision is ill-defined and being set to 0.0 in labels with no predicted samples. Use `zero_division` parameter to control this behavior.\n",
      "  _warn_prf(average, modifier, f\"{metric.capitalize()} is\", len(result))\n"
     ]
    }
   ],
   "source": [
    "modelo_base = LogisticRegression(solver='liblinear')\n",
    "modelo_base.fit(X_train, y_train)\n",
    "\n",
    "print_score(modelo_base, X_train, y_train, X_val, y_val, train=True)\n",
    "print_score(modelo_base, X_train, y_train, X_val, y_val, train=False)"
   ]
  },
  {
   "cell_type": "markdown",
   "metadata": {},
   "source": [
    "**El modelo base falló porque ignoró la clase minoritaria. Para corregirlo, usamos el hiperparámetro `class_weight='balanced'`, que penaliza más los errores cometidos en los casos de fraude, forzando al modelo a prestarles atención.**"
   ]
  },
  {
   "cell_type": "code",
   "execution_count": 13,
   "metadata": {},
   "outputs": [
    {
     "name": "stdout",
     "output_type": "stream",
     "text": [
      "Train Result:\n",
      "================================================\n",
      "Accuracy Score: 51.26%\n",
      "_______________________________________________\n",
      "CLASSIFICATION REPORT:\n",
      "                      0           1  accuracy     macro avg  weighted avg\n",
      "precision      0.991397    0.011462  0.512633      0.501429      0.981597\n",
      "recall         0.512155    0.560000  0.512633      0.536077      0.512633\n",
      "f1-score       0.675399    0.022464  0.512633      0.348932      0.668870\n",
      "support    59400.000000  600.000000  0.512633  60000.000000  60000.000000\n",
      "_______________________________________________\n",
      "Confusion Matrix: \n",
      " [[30422 28978]\n",
      " [  264   336]]\n",
      "\n",
      "Test Result:\n",
      "================================================\n",
      "Accuracy Score: 50.66%\n",
      "_______________________________________________\n",
      "CLASSIFICATION REPORT:\n",
      "                      0           1  accuracy     macro avg  weighted avg\n",
      "precision      0.991003    0.011026    0.5066      0.501014      0.981203\n",
      "recall         0.506212    0.545000    0.5066      0.525606      0.506600\n",
      "f1-score       0.670121    0.021614    0.5066      0.345868      0.663636\n",
      "support    19800.000000  200.000000    0.5066  20000.000000  20000.000000\n",
      "_______________________________________________\n",
      "Confusion Matrix: \n",
      " [[10023  9777]\n",
      " [   91   109]]\n",
      "\n"
     ]
    }
   ],
   "source": [
    "from sklearn.linear_model import LogisticRegression\n",
    "\n",
    "modelo_balanceado = LogisticRegression(class_weight='balanced', solver='liblinear')\n",
    "modelo_balanceado.fit(X_train, y_train)\n",
    "\n",
    "print_score(modelo_balanceado, X_train, y_train, X_val, y_val, train=True)\n",
    "print_score(modelo_balanceado, X_train, y_train, X_val, y_val, train=False)"
   ]
  },
  {
   "cell_type": "markdown",
   "metadata": {},
   "source": [
    "#### **Encontrar el mejor umbral**\n",
    "Usar la Curva Precision-Recall (PR).\n",
    "\n",
    "El modelo actual está siendo **paranoico** porque usa el umbral por defecto de 0.5. Cualquier transacción con una probabilidad de fraude predicha de 0.5001 o más se marca como fraude. Dado que **class_weight** empuja las probabilidades hacia arriba, muchísimas transacciones legítimas superan ese umbral por poco. \n",
    "\n",
    "Solución: Sé más exigente. Solo marca una transacción como fraude si su probabilidad predicha es mucho más alta, por ejemplo, > 0.8 o > 0.9.\n",
    "\n",
    "Cómo hacerlo:\n",
    " Obtén las probabilidades de fraude predichas para tu conjunto de validación.\n",
    "- Visualiza cómo cambian la Precisión y el Recall a medida que mueves el umbral.\n",
    "- Elige un nuevo umbral que te dé un equilibrio aceptable."
   ]
  },
  {
   "cell_type": "code",
   "execution_count": 14,
   "metadata": {},
   "outputs": [
    {
     "name": "stdout",
     "output_type": "stream",
     "text": [
      "Mejor umbral según F1-score: 0.5450\n"
     ]
    },
    {
     "name": "stderr",
     "output_type": "stream",
     "text": [
      "C:\\Users\\Angelica\\AppData\\Local\\Temp\\ipykernel_20040\\4228267505.py:10: RuntimeWarning: invalid value encountered in divide\n",
      "  f1_scores = (2 * precisions * recalls) / (precisions + recalls)\n"
     ]
    },
    {
     "data": {
      "image/png": "[encoded data removed]",
      "text/plain": [
       "<Figure size 1000x600 with 1 Axes>"
      ]
     },
     "metadata": {},
     "output_type": "display_data"
    },
    {
     "name": "stdout",
     "output_type": "stream",
     "text": [
      "\n",
      "--- Resultados con el Umbral Optimizado (basado en F1) ---\n",
      "[[17799  2001]\n",
      " [  173    27]]\n",
      "              precision    recall  f1-score   support\n",
      "\n",
      "           0       0.99      0.90      0.94     19800\n",
      "           1       0.01      0.14      0.02       200\n",
      "\n",
      "    accuracy                           0.89     20000\n",
      "   macro avg       0.50      0.52      0.48     20000\n",
      "weighted avg       0.98      0.89      0.93     20000\n",
      "\n"
     ]
    }
   ],
   "source": [
    "from sklearn.metrics import precision_recall_curve, f1_score\n",
    "import matplotlib.pyplot as plt\n",
    "import numpy as np\n",
    "\n",
    "y_scores = modelo_balanceado.predict_proba(X_val)[:, 1]\n",
    "\n",
    "precisions, recalls, thresholds = precision_recall_curve(y_val, y_scores) # ¡CORRECCIÓN! Debe ser y_val, no y_test\n",
    "\n",
    "#umbral que maximiza el F1-score (un buen punto de partida)\n",
    "f1_scores = (2 * precisions * recalls) / (precisions + recalls)\n",
    "# np.nanargmax devuelve el índice del valor máximo, ignorando los NaNs\n",
    "best_threshold_f1 = thresholds[np.nanargmax(f1_scores)]\n",
    "print(f\"Mejor umbral según F1-score: {best_threshold_f1:.4f}\")\n",
    "\n",
    "plt.figure(figsize=(10, 6))\n",
    "plt.plot(thresholds, precisions[:-1], \"b--\", label=\"Precisión\")\n",
    "plt.plot(thresholds, recalls[:-1], \"g-\", label=\"Recall\")\n",
    "plt.vlines(best_threshold_f1, 0, 1, color='red', linestyle='--', label=f'Mejor Umbral (F1): {best_threshold_f1:.2f}')\n",
    "plt.xlabel(\"Umbral de Decisión\")\n",
    "plt.ylabel(\"Puntuación\")\n",
    "plt.legend()\n",
    "plt.grid(True)\n",
    "plt.title(\"Precisión y Recall vs. Umbral de Decisión\")\n",
    "plt.show()\n",
    "\n",
    "#nuevo umbral para obtener nuevas predicciones\n",
    "y_val_pred_nuevo_umbral = (y_scores >= best_threshold_f1).astype(int)\n",
    "\n",
    "#evaluacion con el nuevo umbral\n",
    "print(\"\\n--- Resultados con el Umbral Optimizado (basado en F1) ---\")\n",
    "from sklearn.metrics import classification_report, confusion_matrix\n",
    "print(confusion_matrix(y_val, y_val_pred_nuevo_umbral))\n",
    "print(classification_report(y_val, y_val_pred_nuevo_umbral))"
   ]
  },
  {
   "cell_type": "markdown",
   "metadata": {},
   "source": [
    "**Técnicas para abordar el desbalanceo de clases**\n",
    "- Submuestreo (Under-sampling:): La estrategia más simple es seleccionar al azar la clase mayoritaria para equilibrarla con la clase minoritaria. Pero la limitación es que los datos eliminados aleatoriamente de la clase mayoritaria pueden ser útiles para crear un modelo sólido.\n",
    "\n",
    "- Sobremuestreo (Over-sampling): La forma más sencilla de sobremuestrear es duplicar datos en la clase minoritaria, pero no se agregará nueva información al modelo. Alternativamente, podemos sintetizar datos de los existentes, referidos como sobremuestreo de minorías sintéticas o SMOTE para abreviar. SMOTE funciona seleccionando datos cercanos o similares en el espacio de características y dibujando una línea entre los datos y creando nuevos datos en un punto de la línea. Es eficaz porque los datos nuevos están cerca de la clase minoritaria en el espacio de características. \n",
    "\n",
    "En este caso, el replicar en mayor medida las muestras más recientes de fraude provoca que el algoritmo sea capaz de tenerlas en cuenta en un corto plazo desde que se comienzan a realizar, pero como se tienen demasiados datos de la clase 0 hay que eliminar algunos (undersampling)."
   ]
  },
  {
   "cell_type": "code",
   "execution_count": 15,
   "metadata": {},
   "outputs": [
    {
     "name": "stdout",
     "output_type": "stream",
     "text": [
      "--- Antes de SMOTE ---\n",
      "Forma de X_train: (60000, 15)\n",
      "Distribución de clases en y_train:\n",
      " IsFraud\n",
      "0    59400\n",
      "1      600\n",
      "Name: count, dtype: int64\n",
      "\n",
      "--- Después de SMOTE ---\n",
      "Forma de X_train remuestreado: (118800, 15)\n",
      "Distribución de clases en y_train remuestreado:\n",
      " IsFraud\n",
      "0    59400\n",
      "1    59400\n",
      "Name: count, dtype: int64\n",
      "\n",
      "Entrenando el modelo con los datos remuestreados...\n",
      "\n",
      "--- Resultados del Modelo en el set de Entrenamiento (Remuestreado) ---\n",
      "Train Result:\n",
      "================================================\n",
      "Accuracy Score: 83.87%\n",
      "_______________________________________________\n",
      "CLASSIFICATION REPORT:\n",
      "                      0             1  accuracy      macro avg   weighted avg\n",
      "precision      0.757643      0.994008  0.838662       0.875825       0.875825\n",
      "recall         0.995892      0.681431  0.838662       0.838662       0.838662\n",
      "f1-score       0.860582      0.808562  0.838662       0.834572       0.834572\n",
      "support    59400.000000  59400.000000  0.838662  118800.000000  118800.000000\n",
      "_______________________________________________\n",
      "Confusion Matrix: \n",
      " [[59156   244]\n",
      " [18923 40477]]\n",
      "\n",
      "\n",
      "--- Resultados del Modelo en el set de Validación (Original) ---\n",
      "Test Result:\n",
      "================================================\n",
      "Accuracy Score: 98.49%\n",
      "_______________________________________________\n",
      "CLASSIFICATION REPORT:\n",
      "                      0      1  accuracy     macro avg  weighted avg\n",
      "precision      0.989949    0.0    0.9849      0.494974      0.980049\n",
      "recall         0.994848    0.0    0.9849      0.497424      0.984900\n",
      "f1-score       0.992393    0.0    0.9849      0.496196      0.982469\n",
      "support    19800.000000  200.0    0.9849  20000.000000  20000.000000\n",
      "_______________________________________________\n",
      "Confusion Matrix: \n",
      " [[19698   102]\n",
      " [  200     0]]\n",
      "\n"
     ]
    }
   ],
   "source": [
    "from sklearn.linear_model import LogisticRegression\n",
    "from imblearn.over_sampling import SMOTE\n",
    "from utils import print_score \n",
    "import pandas as pd\n",
    "\n",
    "#El parámetro `random_state` es para que la creación de datos sintéticos sea reproducible\n",
    "smote = SMOTE(random_state=42)\n",
    "\n",
    "print(\"--- Antes de SMOTE ---\")\n",
    "print(\"Forma de X_train:\", X_train.shape)\n",
    "print(\"Distribución de clases en y_train:\\n\", y_train.value_counts())\n",
    "\n",
    "X_train_resampled, y_train_resampled = smote.fit_resample(X_train, y_train)\n",
    "\n",
    "print(\"\\n--- Después de SMOTE ---\")\n",
    "print(\"Forma de X_train remuestreado:\", X_train_resampled.shape)\n",
    "print(\"Distribución de clases en y_train remuestreado:\\n\", y_train_resampled.value_counts())\n",
    "\n",
    "modelo_smote_manual = LogisticRegression(solver='liblinear')\n",
    "\n",
    "print(\"\\nEntrenando el modelo con los datos remuestreados...\")\n",
    "modelo_smote_manual.fit(X_train_resampled, y_train_resampled)\n",
    "\n",
    "print(\"\\n--- Resultados del Modelo en el set de Entrenamiento (Remuestreado) ---\")\n",
    "print_score(modelo_smote_manual, X_train_resampled, y_train_resampled, X_train_resampled, y_train_resampled, train=True)\n",
    "\n",
    "print(\"\\n--- Resultados del Modelo en el set de Validación (Original) ---\")\n",
    "print_score(modelo_smote_manual, X_train_resampled, y_train_resampled, X_val, y_val, train=False)"
   ]
  },
  {
   "cell_type": "markdown",
   "metadata": {},
   "source": [
    "**Presencia de sobreajuste inducido por SMOTE**\n",
    "\n",
    "Resultados de Entrenamiento: El modelo se **memorizó** perfectamente las características de los datos sintéticos creados por SMOTE. \n",
    "\n",
    "Resultados de Validación: No detectó ni un solo fraude real (Verdaderos Positivos = 0). El conocimiento que el modelo adquirió de los datos sintéticos fue inútil para identificar los fraudes reales. Los fraudes reales eran lo suficientemente diferentes de los sintéticos como para que el modelo no los reconociera. Se sobreajustó por completo."
   ]
  },
  {
   "cell_type": "markdown",
   "metadata": {},
   "source": [
    "**Combinar Sobremuestreo (SMOTE) con Submuestreo**\n",
    "\n",
    "SMOTE puede crear **ruido**, puede generar ejemplos sintéticos en zonas donde las clases se solapan mucho. El submuestreo, aplicado después, puede ayudar a limpiar esas zonas eliminando ejemplos de la clase mayoritaria que son problemáticos o que están demasiado cerca de la minoritaria, creando una frontera de decisión más clara.\n",
    "\n",
    "La técnica más conocida que hace esto es **SMOTEENN**.\n",
    "- **SMOTE:** Primero, crea los datos sintéticos de la clase minoritaria.\n",
    "- **ENN (Edited Nearest Neighbours):** Después, es un algoritmo de limpieza (un tipo de submuestreo) que elimina cualquier ejemplo (de cualquier clase) que sea clasificado incorrectamente por sus vecinos más cercanos. Esto ayuda a eliminar el ruido de la frontera."
   ]
  },
  {
   "cell_type": "code",
   "execution_count": 16,
   "metadata": {},
   "outputs": [
    {
     "name": "stdout",
     "output_type": "stream",
     "text": [
      "--- Antes de SMOTEENN ---\n",
      "Forma de X_train: (60000, 15)\n",
      "Distribución de clases en y_train:\n",
      " IsFraud\n",
      "0    59400\n",
      "1      600\n",
      "Name: count, dtype: int64\n"
     ]
    },
    {
     "name": "stdout",
     "output_type": "stream",
     "text": [
      "\n",
      "--- Después de SMOTEENN ---\n",
      "Forma de X_train remuestreado: (112683, 15)\n",
      "Distribución de clases en y_train remuestreado:\n",
      " IsFraud\n",
      "1    59371\n",
      "0    53312\n",
      "Name: count, dtype: int64\n",
      "\n",
      "Entrenando el modelo con los datos remuestreados por SMOTEENN...\n",
      "\n",
      "--- Resultados del Modelo en el set de Entrenamiento (Remuestreado por SMOTEENN) ---\n",
      "Train Result:\n",
      "================================================\n",
      "Accuracy Score: 82.81%\n",
      "_______________________________________________\n",
      "CLASSIFICATION REPORT:\n",
      "                      0             1  accuracy      macro avg   weighted avg\n",
      "precision      0.739476      0.978193  0.828075       0.858835       0.865253\n",
      "recall         0.982893      0.689057  0.828075       0.835975       0.828075\n",
      "f1-score       0.843984      0.808554  0.828075       0.826269       0.825316\n",
      "support    53312.000000  59371.000000  0.828075  112683.000000  112683.000000\n",
      "_______________________________________________\n",
      "Confusion Matrix: \n",
      " [[52400   912]\n",
      " [18461 40910]]\n",
      "\n",
      "\n",
      "--- Resultados del Modelo en el set de Validación (Original) ---\n",
      "Test Result:\n",
      "================================================\n",
      "Accuracy Score: 97.10%\n",
      "_______________________________________________\n",
      "CLASSIFICATION REPORT:\n",
      "                      0           1  accuracy     macro avg  weighted avg\n",
      "precision      0.989956    0.007772     0.971      0.498864      0.980134\n",
      "recall         0.980657    0.015000     0.971      0.497828      0.971000\n",
      "f1-score       0.985284    0.010239     0.971      0.497762      0.975534\n",
      "support    19800.000000  200.000000     0.971  20000.000000  20000.000000\n",
      "_______________________________________________\n",
      "Confusion Matrix: \n",
      " [[19417   383]\n",
      " [  197     3]]\n",
      "\n"
     ]
    }
   ],
   "source": [
    "from sklearn.linear_model import LogisticRegression\n",
    "from imblearn.combine import SMOTEENN\n",
    "from utils import print_score \n",
    "\n",
    "smote_enn = SMOTEENN(random_state=42)\n",
    "\n",
    "print(\"--- Antes de SMOTEENN ---\")\n",
    "print(\"Forma de X_train:\", X_train.shape)\n",
    "print(\"Distribución de clases en y_train:\\n\", y_train.value_counts())\n",
    "\n",
    "X_train_resampled, y_train_resampled = smote_enn.fit_resample(X_train, y_train)\n",
    "\n",
    "# OJO: A diferencia de SMOTE, las clases no quedarán perfectamente 50/50.\n",
    "# SMOTE primero iguala las clases y luego ENN elimina ejemplos de AMBAS clases\n",
    "# para limpiar la frontera, por lo que el conteo final puede ser ligeramente desigual.\n",
    "print(\"\\n--- Después de SMOTEENN ---\")\n",
    "print(\"Forma de X_train remuestreado:\", X_train_resampled.shape)\n",
    "print(\"Distribución de clases en y_train remuestreado:\\n\", y_train_resampled.value_counts())\n",
    "\n",
    "modelo_smoteenn_manual = LogisticRegression(solver='liblinear')\n",
    "\n",
    "print(\"\\nEntrenando el modelo con los datos remuestreados por SMOTEENN...\")\n",
    "modelo_smoteenn_manual.fit(X_train_resampled, y_train_resampled)\n",
    "\n",
    "print(\"\\n--- Resultados del Modelo en el set de Entrenamiento (Remuestreado por SMOTEENN) ---\")\n",
    "print_score(modelo_smoteenn_manual, X_train_resampled, y_train_resampled, X_train_resampled, y_train_resampled, train=True)\n",
    "\n",
    "print(\"\\n--- Resultados del Modelo en el set de Validación (Original) ---\")\n",
    "print_score(modelo_smoteenn_manual, X_train_resampled, y_train_resampled, X_val, y_val, train=False)"
   ]
  },
  {
   "cell_type": "markdown",
   "metadata": {},
   "source": [
    "Hasta ahora el experimento que mejor ha funcionado ha sido con **class_weight** vamos a mejorarlo"
   ]
  },
  {
   "cell_type": "code",
   "execution_count": 17,
   "metadata": {},
   "outputs": [
    {
     "name": "stdout",
     "output_type": "stream",
     "text": [
      "--- Buscando la mejor combinación de 'C' y 'class_weight' ---\n"
     ]
    },
    {
     "name": "stdout",
     "output_type": "stream",
     "text": [
      "\n",
      "Mejor parámetro encontrado: {'C': 0.001}\n",
      "Mejor puntuación F1 (en validación cruzada): 0.0187\n",
      "\n",
      "--- Resultados del Mejor Modelo de Regresión Logística en el set de Validación ---\n",
      "Test Result:\n",
      "================================================\n",
      "Accuracy Score: 53.75%\n",
      "_______________________________________________\n",
      "CLASSIFICATION REPORT:\n",
      "                      0           1  accuracy     macro avg  weighted avg\n",
      "precision      0.990789    0.010917    0.5375      0.500853       0.98099\n",
      "recall         0.537828    0.505000    0.5375      0.521414       0.53750\n",
      "f1-score       0.697198    0.021371    0.5375      0.359284       0.69044\n",
      "support    19800.000000  200.000000    0.5375  20000.000000   20000.00000\n",
      "_______________________________________________\n",
      "Confusion Matrix: \n",
      " [[10649  9151]\n",
      " [   99   101]]\n",
      "\n"
     ]
    }
   ],
   "source": [
    "from sklearn.linear_model import LogisticRegression\n",
    "from sklearn.model_selection import GridSearchCV\n",
    "from sklearn.metrics import make_scorer, f1_score\n",
    "from utils import print_score \n",
    "\n",
    "log_reg = LogisticRegression(class_weight='balanced', solver='liblinear')\n",
    "\n",
    "# Definir el espacio de búsqueda de hiperparámetros\n",
    "# Probaremos diferentes valores para 'C', que controla la regularización\n",
    "param_grid = {\n",
    "    'C': [0.001, 0.01, 0.1, 1, 10, 100, 1000] \n",
    "}\n",
    "\n",
    "# Definir la métrica de evaluación\n",
    "# Usamos el F1-score para la clase de fraude (1) porque busca un equilibrio \n",
    "# entre Precisión y Recall, que es exactamente lo que queremos.\n",
    "f1_scorer = make_scorer(f1_score, pos_label=1)\n",
    "\n",
    "# Configurar la Búsqueda en Rejilla (Grid Search)\n",
    "# cv=5 significa que usará validación cruzada con 5 pliegues.\n",
    "grid_search = GridSearchCV(\n",
    "    estimator=log_reg, \n",
    "    param_grid=param_grid, \n",
    "    scoring=f1_scorer, \n",
    "    cv=5,\n",
    "    n_jobs=-1 # Usa todos los procesadores\n",
    ")\n",
    "# Ejecutar la búsqueda en los datos de entrenamiento\n",
    "print(\"--- Buscando la mejor combinación de 'C' y 'class_weight' ---\")\n",
    "grid_search.fit(X_train, y_train)\n",
    "\n",
    "print(f\"\\nMejor parámetro encontrado: {grid_search.best_params_}\")\n",
    "print(f\"Mejor puntuación F1 (en validación cruzada): {grid_search.best_score_:.4f}\")\n",
    "\n",
    "# Obtener el mejor modelo encontrado\n",
    "best_logistic_model = grid_search.best_estimator_\n",
    "\n",
    "# Evaluar este \"mejor modelo\" final en nuestro set de validación\n",
    "print(\"\\n--- Resultados del Mejor Modelo de Regresión Logística en el set de Validación ---\")\n",
    "print_score(best_logistic_model, X_train, y_train, X_val, y_val, train=False)"
   ]
  }
 ],
 "metadata": {
  "kernelspec": {
   "display_name": "Python 3",
   "language": "python",
   "name": "python3"
  },
  "language_info": {
   "codemirror_mode": {
    "name": "ipython",
    "version": 3
   },
   "file_extension": ".py",
   "mimetype": "text/x-python",
   "name": "python",
   "nbconvert_exporter": "python",
   "pygments_lexer": "ipython3",
   "version": "3.12.3"
  }
 },
 "nbformat": 4,
 "nbformat_minor": 2
}
