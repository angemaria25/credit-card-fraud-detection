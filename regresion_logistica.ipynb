{
 "cells": [
  {
   "cell_type": "code",
   "execution_count": null,
   "metadata": {},
   "outputs": [],
   "source": [
    "from utils import print_score\n",
    "\n",
    "\n",
    "from sklearn.linear_model import LogisticRegression\n",
    "from sklearn.metrics import classification_report, confusion_matrix, precision_recall_curve, roc_auc_score, f1_score\n",
    "from imblearn.pipeline import Pipeline\n",
    "from imblearn.over_sampling import SMOTE\n",
    "from imblearn.under_sampling import RandomUnderSampler\n",
    "import pandas as pd \n",
    "import numpy as np\n",
    "import matplotlib.pyplot as plt\n",
    "\n",
    "import warnings\n",
    "warnings.filterwarnings('ignore')"
   ]
  },
  {
   "cell_type": "code",
   "execution_count": null,
   "metadata": {},
   "outputs": [],
   "source": [
    "ruta = \"./data/dataset_balanceado.csv\"\n",
    "X_train, X_val, X_test, y_train, y_val, y_test = cargar_y_preprocesar_datos(ruta)"
   ]
  },
  {
   "cell_type": "markdown",
   "metadata": {},
   "source": [
    "##### Modelo Base (Sin manejo de desbalanceo) \n",
    "\n",
    "Este modelo sirve como punto de referencia para medir las mejoras."
   ]
  },
  {
   "cell_type": "code",
   "execution_count": 10,
   "metadata": {},
   "outputs": [
    {
     "name": "stdout",
     "output_type": "stream",
     "text": [
      "Train Result:\n",
      "================================================\n",
      "Accuracy Score: 99.00%\n",
      "_______________________________________________\n",
      "CLASSIFICATION REPORT:\n",
      "                      0      1  accuracy     macro avg  weighted avg\n",
      "precision      0.990000    0.0      0.99      0.495000      0.980100\n",
      "recall         1.000000    0.0      0.99      0.500000      0.990000\n",
      "f1-score       0.994975    0.0      0.99      0.497487      0.985025\n",
      "support    59400.000000  600.0      0.99  60000.000000  60000.000000\n",
      "_______________________________________________\n",
      "Confusion Matrix: \n",
      " [[59400     0]\n",
      " [  600     0]]\n",
      "\n",
      "Test Result:\n",
      "================================================\n",
      "Accuracy Score: 99.00%\n",
      "_______________________________________________\n",
      "CLASSIFICATION REPORT:\n",
      "                      0      1  accuracy     macro avg  weighted avg\n",
      "precision      0.990000    0.0      0.99      0.495000      0.980100\n",
      "recall         1.000000    0.0      0.99      0.500000      0.990000\n",
      "f1-score       0.994975    0.0      0.99      0.497487      0.985025\n",
      "support    19800.000000  200.0      0.99  20000.000000  20000.000000\n",
      "_______________________________________________\n",
      "Confusion Matrix: \n",
      " [[19800     0]\n",
      " [  200     0]]\n",
      "\n"
     ]
    }
   ],
   "source": [
    "modelo_base = LogisticRegression(solver='liblinear', random_state=42)\n",
    "modelo_base.fit(X_train, y_train)\n",
    "\n",
    "print_score(modelo_base, X_train, y_train, X_val, y_val, train=True)\n",
    "print_score(modelo_base, X_train, y_train, X_val, y_val, train=False)"
   ]
  },
  {
   "cell_type": "markdown",
   "metadata": {},
   "source": [
    "##### Ponderación de Clases\n",
    "\n",
    "Se utiliza **class_weight='balanced'** para penalizar más los errores en la clase minoritaria."
   ]
  },
  {
   "cell_type": "code",
   "execution_count": 11,
   "metadata": {},
   "outputs": [
    {
     "name": "stdout",
     "output_type": "stream",
     "text": [
      "Train Result:\n",
      "================================================\n",
      "Accuracy Score: 51.26%\n",
      "_______________________________________________\n",
      "CLASSIFICATION REPORT:\n",
      "                      0           1  accuracy     macro avg  weighted avg\n",
      "precision      0.991397    0.011462  0.512633      0.501429      0.981597\n",
      "recall         0.512155    0.560000  0.512633      0.536077      0.512633\n",
      "f1-score       0.675399    0.022464  0.512633      0.348932      0.668870\n",
      "support    59400.000000  600.000000  0.512633  60000.000000  60000.000000\n",
      "_______________________________________________\n",
      "Confusion Matrix: \n",
      " [[30422 28978]\n",
      " [  264   336]]\n",
      "\n",
      "Test Result:\n",
      "================================================\n",
      "Accuracy Score: 50.66%\n",
      "_______________________________________________\n",
      "CLASSIFICATION REPORT:\n",
      "                      0           1  accuracy     macro avg  weighted avg\n",
      "precision      0.991003    0.011026    0.5066      0.501014      0.981203\n",
      "recall         0.506212    0.545000    0.5066      0.525606      0.506600\n",
      "f1-score       0.670121    0.021614    0.5066      0.345868      0.663636\n",
      "support    19800.000000  200.000000    0.5066  20000.000000  20000.000000\n",
      "_______________________________________________\n",
      "Confusion Matrix: \n",
      " [[10023  9777]\n",
      " [   91   109]]\n",
      "\n"
     ]
    }
   ],
   "source": [
    "modelo_balanceado = LogisticRegression(class_weight='balanced', solver='liblinear', random_state=42)\n",
    "modelo_balanceado.fit(X_train, y_train)\n",
    "\n",
    "print_score(modelo_balanceado, X_train, y_train, X_val, y_val, train=True)\n",
    "print_score(modelo_balanceado, X_train, y_train, X_val, y_val, train=False)"
   ]
  },
  {
   "cell_type": "markdown",
   "metadata": {},
   "source": [
    "##### SMOTE y Submuestreo \n",
    "\n",
    "Para un mejor control, crear un pipeline que primero aplica **SMOTE** para generar muestras sintéticas de la clase minoritaria, y luego aplica **submuestreo aleatorio** para reducir la clase mayoritaria.\n",
    "\n",
    "Usar un pipeline de `imblearn` es crucial para evitar el \"data leakage\", ya que el remuestreo se ajusta solo a los datos de entrenamiento durante el `fit`."
   ]
  },
  {
   "cell_type": "code",
   "execution_count": 15,
   "metadata": {},
   "outputs": [
    {
     "name": "stdout",
     "output_type": "stream",
     "text": [
      "Train Result:\n",
      "================================================\n",
      "Accuracy Score: 98.29%\n",
      "_______________________________________________\n",
      "CLASSIFICATION REPORT:\n",
      "                      0           1  accuracy     macro avg  weighted avg\n",
      "precision      0.990060    0.018100    0.9829      0.504080      0.980341\n",
      "recall         0.992694    0.013333    0.9829      0.503013      0.982900\n",
      "f1-score       0.991375    0.015355    0.9829      0.503365      0.981615\n",
      "support    59400.000000  600.000000    0.9829  60000.000000  60000.000000\n",
      "_______________________________________________\n",
      "Confusion Matrix: \n",
      " [[58966   434]\n",
      " [  592     8]]\n",
      "\n",
      "Test Result:\n",
      "================================================\n",
      "Accuracy Score: 98.16%\n",
      "_______________________________________________\n",
      "CLASSIFICATION REPORT:\n",
      "                      0           1  accuracy     macro avg  weighted avg\n",
      "precision      0.989965    0.005882    0.9816      0.497924      0.980124\n",
      "recall         0.991465    0.005000    0.9816      0.498232      0.981600\n",
      "f1-score       0.990714    0.005405    0.9816      0.498060      0.980861\n",
      "support    19800.000000  200.000000    0.9816  20000.000000  20000.000000\n",
      "_______________________________________________\n",
      "Confusion Matrix: \n",
      " [[19631   169]\n",
      " [  199     1]]\n",
      "\n"
     ]
    }
   ],
   "source": [
    "pipeline_resampling = Pipeline([\n",
    "    ('oversample', SMOTE(sampling_strategy=0.2, random_state=42)),\n",
    "    ('undersample', RandomUnderSampler(sampling_strategy=0.5, random_state=42)),\n",
    "    ('model', LogisticRegression(solver='liblinear', random_state=42, class_weight='balanced'))\n",
    "])\n",
    "\n",
    "c = pipeline_resampling.fit(X_train, y_train)\n",
    "\n",
    "print_score(c, X_train, y_train, X_val, y_val, train=True)\n",
    "print_score(c, X_train, y_train, X_val, y_val, train=False)"
   ]
  },
  {
   "cell_type": "markdown",
   "metadata": {},
   "source": [
    "##### Ajuste del Umbral de Decisión (maximiza f1-score)\n",
    "\n",
    "Ahora que tenemos un modelo más robusto, podemos ajustar el umbral de probabilidad para optimizar el balance entre precisión y recall, buscando maximizar el F1-score.\n"
   ]
  },
  {
   "cell_type": "code",
   "execution_count": 16,
   "metadata": {},
   "outputs": [
    {
     "name": "stdout",
     "output_type": "stream",
     "text": [
      "Mejor umbral encontrado: 0.3381\n",
      "F1-Score máximo en validación: 0.0238\n"
     ]
    },
    {
     "data": {
      "image/png": "[encoded data removed]",
      "text/plain": [
       "<Figure size 1000x600 with 1 Axes>"
      ]
     },
     "metadata": {},
     "output_type": "display_data"
    }
   ],
   "source": [
    "y_scores = pipeline_resampling.predict_proba(X_val)[:, 1]\n",
    "\n",
    "precisions, recalls, thresholds = precision_recall_curve(y_val, y_scores)\n",
    "\n",
    "epsilon = 1e-7\n",
    "f1_scores = 2 * (precisions * recalls) / (precisions + recalls + epsilon)\n",
    "\n",
    "# Encontrar el mejor umbral que maximiza el F1-score\n",
    "best_threshold_idx = np.argmax(f1_scores)\n",
    "best_threshold = thresholds[best_threshold_idx]\n",
    "\n",
    "print(f\"Mejor umbral encontrado: {best_threshold:.4f}\")\n",
    "print(f\"F1-Score máximo en validación: {f1_scores[best_threshold_idx]:.4f}\")\n",
    "\n",
    "# Visualización de la curva de Precisión-Recall vs Umbral\n",
    "plt.figure(figsize=(10, 6))\n",
    "plt.plot(thresholds, precisions[:-1], \"b--\", label=\"Precisión\")\n",
    "plt.plot(thresholds, recalls[:-1], \"g-\", label=\"Recall\")\n",
    "plt.plot(thresholds, f1_scores[:-1], \"m-\", label=\"F1-Score\", alpha=0.6)\n",
    "plt.axvline(best_threshold, color='r', linestyle='--', label=f'Mejor Umbral (F1 Max) = {best_threshold:.2f}')\n",
    "plt.title(\"Precisión, Recall y F1-Score vs. Umbral de Decisión\")\n",
    "plt.xlabel(\"Umbral\")\n",
    "plt.ylabel(\"Puntuación\")\n",
    "plt.grid(True)\n",
    "plt.legend()\n",
    "plt.show()"
   ]
  },
  {
   "cell_type": "markdown",
   "metadata": {},
   "source": [
    "dar rango de 0 a 1, mejorar la escala del eje y"
   ]
  },
  {
   "cell_type": "markdown",
   "metadata": {},
   "source": [
    "##### Resumen:\n",
    "\n",
    "El smote con remuestreo no estaba funcionando bien, no clasifica ningun fraude ni en entrenamiento ni en validacion, los clasifica todos como no fraude.\n",
    "\n",
    "Al ajustar los pesos con `class_weight=balanced` mejoró minimamnete (comenzo a detectar fraude)"
   ]
  },
  {
   "cell_type": "code",
   "execution_count": 20,
   "metadata": {},
   "outputs": [
    {
     "name": "stdout",
     "output_type": "stream",
     "text": [
      "Evaluación Final del Pipeline en Validación con Umbral Optimizado\n",
      "Matriz de Confusión Final:\n",
      "[[13609  6191]\n",
      " [  123    77]]\n",
      "\n",
      "Reporte de Clasificación Final:\n",
      "              precision    recall  f1-score   support\n",
      "\n",
      "           0       0.99      0.69      0.81     19800\n",
      "           1       0.01      0.39      0.02       200\n",
      "\n",
      "    accuracy                           0.68     20000\n",
      "   macro avg       0.50      0.54      0.42     20000\n",
      "weighted avg       0.98      0.68      0.80     20000\n",
      "\n",
      "ROC AUC Score: 0.5354\n"
     ]
    }
   ],
   "source": [
    "print(\"Evaluación Final del Pipeline en Validación con Umbral Optimizado\")\n",
    "y_pred_final = (y_scores >= best_threshold).astype(int)\n",
    "\n",
    "print(\"Matriz de Confusión Final:\")\n",
    "print(confusion_matrix(y_val, y_pred_final))\n",
    "print(\"\\nReporte de Clasificación Final:\")\n",
    "print(classification_report(y_val, y_pred_final))\n",
    "\n",
    "roc_auc = roc_auc_score(y_val, y_scores)\n",
    "print(f\"ROC AUC Score: {roc_auc:.4f}\")"
   ]
  },
  {
   "cell_type": "code",
   "execution_count": null,
   "metadata": {},
   "outputs": [
    {
     "name": "stdout",
     "output_type": "stream",
     "text": [
      "Fitting 3 folds for each of 48 candidates, totalling 144 fits\n",
      "Mejor score (F1) de validación cruzada: 0.0203\n",
      "Mejores parámetros: {'model__C': 0.01, 'model__class_weight': 'balanced', 'model__penalty': 'l2', 'sampler__sampling_strategy': 0.1, 'undersampler__sampling_strategy': 0.6}\n"
     ]
    }
   ],
   "source": [
    "from sklearn.model_selection import GridSearchCV\n",
    "from sklearn.metrics import make_scorer, f1_score, recall_score\n",
    "\n",
    "from sklearn.preprocessing import StandardScaler\n",
    "from imblearn.pipeline import Pipeline\n",
    "from imblearn.over_sampling import SMOTE\n",
    "from imblearn.under_sampling import RandomUnderSampler\n",
    "from sklearn.linear_model import LogisticRegression\n",
    "\n",
    "pipeline_lr = Pipeline([\n",
    "    ('scaler', StandardScaler()),\n",
    "    ('sampler', SMOTE(random_state=42)),\n",
    "    ('undersampler', RandomUnderSampler(random_state=42)),\n",
    "    ('model', LogisticRegression(solver='liblinear', random_state=42, max_iter=1000)) \n",
    "])\n",
    "\n",
    "param_grid = {\n",
    "    'model__C': [0.01, 0.1, 1],\n",
    "    'model__penalty': ['l1', 'l2'],\n",
    "    'model__class_weight': ['balanced', None], # Probar si balanced es siempre mejor\n",
    "    'sampler__sampling_strategy': [0.1, 0.2], # Reduje el rango para ser más rápido\n",
    "    'undersampler__sampling_strategy': [0.5, 0.6] # Reduje el rango\n",
    "}\n",
    "\n",
    "scorer = make_scorer(f1_score, pos_label=1) \n",
    "\n",
    "grid_search = GridSearchCV(pipeline_lr, param_grid, cv=3, scoring=scorer, n_jobs=-1, verbose=1)\n",
    "grid_search.fit(X_train, y_train) \n",
    "\n",
    "print(f\"Mejor score (F1) de validación cruzada: {grid_search.best_score_:.4f}\")\n",
    "print(f\"Mejores parámetros: {grid_search.best_params_}\")\n",
    "\n",
    "best_logistic_model = grid_search.best_estimator_"
   ]
  },
  {
   "cell_type": "code",
   "execution_count": 22,
   "metadata": {},
   "outputs": [
    {
     "name": "stdout",
     "output_type": "stream",
     "text": [
      "Test Result:\n",
      "================================================\n",
      "Accuracy Score: 50.00%\n",
      "_______________________________________________\n",
      "CLASSIFICATION REPORT:\n",
      "                      0           1  accuracy     macro avg  weighted avg\n",
      "precision      0.990098    0.010098       0.5      0.500098      0.980298\n",
      "recall         0.499949    0.505000       0.5      0.502475      0.500000\n",
      "f1-score       0.664407    0.019800       0.5      0.342104      0.657961\n",
      "support    19800.000000  200.000000       0.5  20000.000000  20000.000000\n",
      "_______________________________________________\n",
      "Confusion Matrix: \n",
      " [[9899 9901]\n",
      " [  99  101]]\n",
      "\n"
     ]
    }
   ],
   "source": [
    "print_score(grid_search, X_train, y_train, X_val, y_val, train=False)"
   ]
  },
  {
   "cell_type": "markdown",
   "metadata": {},
   "source": [
    "#### Conclusión: \n",
    "Se ha explorado el modelo de Regresión Logística, incluyendo estrategias de balanceo de clases como `class_weight='balanced'` y `remuestreo (SMOTE y RandomUnderSampler)`. A pesar de estas técnicas y la optimización del umbral de decisión para el F1-score, la Regresión Logística muestra una capacidad limitada para detectar fraudes (recall del 39%) con una alta cantidda de falsos positivos (precisión del 1%). El bajo valor de ROC AUC (0.5354) sugiere que con los features actuales el modelo no está aprendiendo patrones lo suficientemente generales para poder distinguir entre transacciones fraudulentas y legítimas, basicamente las características actuales no son linealmente separables para este modelo por lo cual no es adecuado para este problema.  "
   ]
  }
 ],
 "metadata": {
  "kernelspec": {
   "display_name": "Python 3",
   "language": "python",
   "name": "python3"
  },
  "language_info": {
   "codemirror_mode": {
    "name": "ipython",
    "version": 3
   },
   "file_extension": ".py",
   "mimetype": "text/x-python",
   "name": "python",
   "nbconvert_exporter": "python",
   "pygments_lexer": "ipython3",
   "version": "3.12.3"
  }
 },
 "nbformat": 4,
 "nbformat_minor": 2
}
