{
 "cells": [
  {
   "cell_type": "code",
   "execution_count": 1,
   "id": "6a1dadf7",
   "metadata": {},
   "outputs": [],
   "source": [
    "import pandas as pd\n",
    "import numpy as np\n",
    "import matplotlib.pyplot as plt\n",
    "import seaborn as sns\n",
    "\n",
    "from sklearn.svm import SVC\n",
    "from sklearn.model_selection import GridSearchCV, StratifiedKFold\n",
    "from sklearn.metrics import classification_report, confusion_matrix, roc_auc_score, precision_recall_curve, auc\n",
    "from sklearn.metrics import accuracy_score, precision_score, recall_score, f1_score\n",
    "\n",
    "from imblearn.over_sampling import SMOTE\n",
    "from imblearn.pipeline import make_pipeline as make_imb_pipeline\n",
    "\n",
    "from preprocess import cargar_y_preprocesar_datos\n",
    "from utils import print_score\n",
    "\n",
    "plt.style.use('ggplot')\n",
    "%matplotlib inline\n",
    "\n",
    "import warnings\n",
    "warnings.filterwarnings('ignore')"
   ]
  },
  {
   "cell_type": "code",
   "execution_count": 2,
   "id": "6db22ced",
   "metadata": {},
   "outputs": [],
   "source": [
    "X_train, X_val, X_test, y_train, y_val, y_test = cargar_y_preprocesar_datos(\"./data/credit_card_fraud_dataset.csv\")"
   ]
  },
  {
   "cell_type": "markdown",
   "id": "b72c1d35",
   "metadata": {},
   "source": [
    "#### Modelo SVM Base"
   ]
  },
  {
   "cell_type": "code",
   "execution_count": 3,
   "id": "34227037",
   "metadata": {},
   "outputs": [
    {
     "name": "stdout",
     "output_type": "stream",
     "text": [
      "Train Result:\n",
      "================================================\n",
      "Accuracy Score: 52.67%\n",
      "_______________________________________________\n",
      "CLASSIFICATION REPORT:\n",
      "                      0           1  accuracy     macro avg  weighted avg\n",
      "precision      0.992720    0.012998  0.526667      0.502859      0.982923\n",
      "recall         0.525741    0.618333  0.526667      0.572037      0.526667\n",
      "f1-score       0.687424    0.025462  0.526667      0.356443      0.680805\n",
      "support    59400.000000  600.000000  0.526667  60000.000000  60000.000000\n",
      "_______________________________________________\n",
      "Confusion Matrix: \n",
      " [[31229 28171]\n",
      " [  229   371]]\n",
      "\n",
      "Test Result:\n",
      "================================================\n",
      "Accuracy Score: 52.46%\n",
      "_______________________________________________\n",
      "CLASSIFICATION REPORT:\n",
      "                      0           1  accuracy     macro avg  weighted avg\n",
      "precision      0.989723    0.009693   0.52465      0.499708      0.979923\n",
      "recall         0.525303    0.460000   0.52465      0.492652      0.524650\n",
      "f1-score       0.686331    0.018987   0.52465      0.352659      0.679657\n",
      "support    19800.000000  200.000000   0.52465  20000.000000  20000.000000\n",
      "_______________________________________________\n",
      "Confusion Matrix: \n",
      " [[10401  9399]\n",
      " [  108    92]]\n",
      "\n"
     ]
    }
   ],
   "source": [
    "# Modelo SVM base con class_weight='balanced' para manejar el desbalance\n",
    "svm_base = SVC(\n",
    "    kernel='rbf',\n",
    "    class_weight='balanced',\n",
    "    probability=True,\n",
    "    random_state=42\n",
    ")\n",
    "\n",
    "svm_base.fit(X_train, y_train)\n",
    "\n",
    "print_score(svm_base, X_train, y_train, X_val, y_val, train=True)\n",
    "print_score(svm_base, X_train, y_train, X_val, y_val, train=False)"
   ]
  },
  {
   "cell_type": "markdown",
   "id": "3276dafd",
   "metadata": {},
   "source": [
    "#### SVM con SMOTE"
   ]
  },
  {
   "cell_type": "code",
   "execution_count": 4,
   "id": "06ecc642",
   "metadata": {},
   "outputs": [
    {
     "name": "stdout",
     "output_type": "stream",
     "text": [
      "Distribución original en entrenamiento:\n",
      "IsFraud\n",
      "0    59400\n",
      "1      600\n",
      "Name: count, dtype: int64\n",
      "\n",
      "Distribución después de SMOTE:\n",
      "IsFraud\n",
      "0    59400\n",
      "1    59400\n",
      "Name: count, dtype: int64\n",
      "Train Result:\n",
      "================================================\n",
      "Accuracy Score: 83.84%\n",
      "_______________________________________________\n",
      "CLASSIFICATION REPORT:\n",
      "                      0             1  accuracy      macro avg   weighted avg\n",
      "precision      0.755696      1.000000  0.838359       0.877848       0.877848\n",
      "recall         1.000000      0.676717  0.838359       0.838359       0.838359\n",
      "f1-score       0.860851      0.807193  0.838359       0.834022       0.834022\n",
      "support    59400.000000  59400.000000  0.838359  118800.000000  118800.000000\n",
      "_______________________________________________\n",
      "Confusion Matrix: \n",
      " [[59400     0]\n",
      " [19203 40197]]\n",
      "\n",
      "Test Result:\n",
      "================================================\n",
      "Accuracy Score: 99.00%\n",
      "_______________________________________________\n",
      "CLASSIFICATION REPORT:\n",
      "                      0      1  accuracy     macro avg  weighted avg\n",
      "precision      0.990000    0.0      0.99      0.495000      0.980100\n",
      "recall         1.000000    0.0      0.99      0.500000      0.990000\n",
      "f1-score       0.994975    0.0      0.99      0.497487      0.985025\n",
      "support    19800.000000  200.0      0.99  20000.000000  20000.000000\n",
      "_______________________________________________\n",
      "Confusion Matrix: \n",
      " [[19800     0]\n",
      " [  200     0]]\n",
      "\n"
     ]
    }
   ],
   "source": [
    "smote = SMOTE(random_state=42)\n",
    "X_train_smote, y_train_smote = smote.fit_resample(X_train, y_train)\n",
    "\n",
    "print(f\"Distribución original en entrenamiento:\")\n",
    "print(y_train.value_counts())\n",
    "print(f\"\\nDistribución después de SMOTE:\")\n",
    "print(pd.Series(y_train_smote).value_counts())\n",
    "\n",
    "svm_smote = SVC(\n",
    "    kernel='rbf',\n",
    "    probability=True,\n",
    "    random_state=42\n",
    ") \n",
    "\n",
    "svm_smote.fit(X_train_smote, y_train_smote)\n",
    "\n",
    "print_score(svm_smote, X_train_smote, y_train_smote, X_val, y_val, train=True)\n",
    "print_score(svm_smote, X_train_smote, y_train_smote, X_val, y_val, train=False)"
   ]
  },
  {
   "cell_type": "markdown",
   "id": "a094dfb3",
   "metadata": {},
   "source": [
    "#### Optimización de Hiperparámetros"
   ]
  },
  {
   "cell_type": "code",
   "execution_count": null,
   "id": "fbf9a1a1",
   "metadata": {},
   "outputs": [
    {
     "name": "stdout",
     "output_type": "stream",
     "text": [
      "Fitting 3 folds for each of 40 candidates, totalling 120 fits\n"
     ]
    }
   ],
   "source": [
    "# espacio de búsqueda de hiperparámetros\n",
    "param_grid = {\n",
    "    'C': [0.1, 1, 10, 100],\n",
    "    'gamma': ['scale', 'auto', 0.01, 0.1, 1],\n",
    "    'kernel': ['rbf', 'linear']\n",
    "}\n",
    "\n",
    "# Usar StratifiedKFold para validación cruzada\n",
    "cv = StratifiedKFold(n_splits=3, shuffle=True, random_state=42)\n",
    "\n",
    "svm_grid = GridSearchCV(\n",
    "    SVC(class_weight='balanced', probability=True, random_state=42),\n",
    "    param_grid=param_grid,\n",
    "    cv=cv,\n",
    "    scoring='f1', \n",
    "    n_jobs=-1,\n",
    "    verbose=1\n",
    ")\n",
    "\n",
    "svm_grid.fit(X_train, y_train)\n",
    "\n",
    "print(\"\\nMejores parámetros encontrados:\")\n",
    "print(svm_grid.best_params_)\n",
    "print(f\"\\nMejor score F1 en validación cruzada: {svm_grid.best_score_:.4f}\")\n",
    "\n",
    "best_svm = svm_grid.best_estimator_"
   ]
  },
  {
   "cell_type": "markdown",
   "id": "b3e11705",
   "metadata": {},
   "source": [
    "##### Evaluación del Modelo Optimizado"
   ]
  },
  {
   "cell_type": "code",
   "execution_count": null,
   "id": "54e99393",
   "metadata": {},
   "outputs": [],
   "source": [
    "print_score(best_svm, X_train, y_train, X_val, y_val, train=True)\n",
    "print_score(best_svm, X_train, y_train, X_val, y_val, train=False)\n",
    "\n",
    "y_pred_val = best_svm.predict(X_val)\n",
    "y_proba_val = best_svm.predict_proba(X_val)[:, 1]\n",
    "\n",
    "print(f\"\\nMétricas adicionales en validación:\")\n",
    "print(f\"ROC-AUC Score: {roc_auc_score(y_val, y_proba_val):.4f}\")\n",
    "\n",
    "precision, recall, _ = precision_recall_curve(y_val, y_proba_val)\n",
    "pr_auc = auc(recall, precision)\n",
    "\n",
    "plt.figure(figsize=(10, 5))\n",
    "plt.subplot(1, 2, 1)\n",
    "plt.plot(recall, precision, label=f'SVM Optimizado (AUC = {pr_auc:.3f})')\n",
    "plt.xlabel('Recall')\n",
    "plt.ylabel('Precision')\n",
    "plt.title('Curva Precision-Recall')\n",
    "plt.legend()\n",
    "plt.grid(True)\n",
    "\n",
    "plt.subplot(1, 2, 2)\n",
    "plt.hist(y_proba_val[y_val == 0], bins=50, alpha=0.7, label='No Fraude', density=True)\n",
    "plt.hist(y_proba_val[y_val == 1], bins=50, alpha=0.7, label='Fraude', density=True)\n",
    "plt.xlabel('Probabilidad de Fraude')\n",
    "plt.ylabel('Densidad')\n",
    "plt.title('Distribución de Probabilidades')\n",
    "plt.legend()\n",
    "plt.grid(True)\n",
    "\n",
    "plt.tight_layout()\n",
    "plt.show()"
   ]
  },
  {
   "cell_type": "markdown",
   "id": "e65be6e0",
   "metadata": {},
   "source": [
    "##### Evaluación Final en Conjunto de Prueba"
   ]
  },
  {
   "cell_type": "code",
   "execution_count": null,
   "id": "2d419133",
   "metadata": {},
   "outputs": [],
   "source": [
    "print_score(best_svm, X_train, y_train, X_test, y_test, train=False)\n",
    "\n",
    "# Métricas adicionales en conjunto de prueba\n",
    "y_pred_test = best_svm.predict(X_test)\n",
    "y_proba_test = best_svm.predict_proba(X_test)[:, 1]\n",
    "\n",
    "# Calcular métricas específicas\n",
    "accuracy = accuracy_score(y_test, y_pred_test)\n",
    "precision = precision_score(y_test, y_pred_test)\n",
    "recall = recall_score(y_test, y_pred_test)\n",
    "f1 = f1_score(y_test, y_pred_test)\n",
    "roc_auc = roc_auc_score(y_test, y_proba_test)\n",
    "\n",
    "# Curva Precision-Recall para conjunto de prueba\n",
    "precision_test, recall_test, _ = precision_recall_curve(y_test, y_proba_test)\n",
    "pr_auc_test = auc(recall_test, precision_test)\n",
    "\n",
    "metrics_df = pd.DataFrame({\n",
    "    'Métrica': ['Accuracy', 'Precision', 'Recall', 'F1-Score', 'ROC-AUC', 'PR-AUC'],\n",
    "    'Valor': [accuracy, precision, recall, f1, roc_auc, pr_auc_test]\n",
    "})\n",
    "\n",
    "print(\"\\nResumen de métricas en conjunto de prueba:\")\n",
    "print(metrics_df.to_string(index=False))\n",
    "\n",
    "print(\"\\n\" + \"=\"*50)\n",
    "print(\"INTERPRETACIÓN DE RESULTADOS\")\n",
    "print(\"=\"*50)\n",
    "print(\"\\nPara detección de fraude, las métricas más importantes son:\")\n",
    "print(f\"• Recall: {recall:.3f} - Porcentaje de fraudes reales detectados\")\n",
    "print(f\"• Precision: {precision:.3f} - Porcentaje de alertas que son fraudes reales\")\n",
    "print(f\"• F1-Score: {f1:.3f} - Balance entre precision y recall\")\n",
    "print(f\"• ROC-AUC: {roc_auc:.3f} - Capacidad de discriminación general\")\n",
    "print(f\"• PR-AUC: {pr_auc_test:.3f} - Rendimiento en clases desbalanceadas\")"
   ]
  },
  {
   "cell_type": "markdown",
   "id": "ee690e94",
   "metadata": {},
   "source": [
    "##### Comparación de Modelos"
   ]
  },
  {
   "cell_type": "code",
   "execution_count": null,
   "id": "b5782ac1",
   "metadata": {},
   "outputs": [],
   "source": [
    "# Comparar todos los modelos en el conjunto de validación\n",
    "models = {\n",
    "    'SVM Base': svm_base,\n",
    "    'SVM + SMOTE': svm_smote,\n",
    "    'SVM Optimizado': best_svm\n",
    "}\n",
    "\n",
    "comparison_results = []\n",
    "\n",
    "for name, model in models.items():\n",
    "    y_pred = model.predict(X_val)\n",
    "    y_proba = model.predict_proba(X_val)[:, 1]\n",
    "    \n",
    "    metrics = {\n",
    "        'Modelo': name,\n",
    "        'Accuracy': accuracy_score(y_val, y_pred),\n",
    "        'Precision': precision_score(y_val, y_pred),\n",
    "        'Recall': recall_score(y_val, y_pred),\n",
    "        'F1-Score': f1_score(y_val, y_pred),\n",
    "        'ROC-AUC': roc_auc_score(y_val, y_proba)\n",
    "    }\n",
    "    comparison_results.append(metrics)\n",
    "\n",
    "comparison_df = pd.DataFrame(comparison_results)\n",
    "print(\"\\nComparación de modelos en conjunto de validación:\")\n",
    "print(comparison_df.round(4).to_string(index=False))\n",
    "\n",
    "# Visualización de la comparación\n",
    "plt.figure(figsize=(12, 8))\n",
    "\n",
    "metrics_to_plot = ['Precision', 'Recall', 'F1-Score', 'ROC-AUC']\n",
    "x = np.arange(len(metrics_to_plot))\n",
    "width = 0.25\n",
    "\n",
    "for i, (_, row) in enumerate(comparison_df.iterrows()):\n",
    "    values = [row[metric] for metric in metrics_to_plot]\n",
    "    plt.bar(x + i*width, values, width, label=row['Modelo'])\n",
    "\n",
    "plt.xlabel('Métricas')\n",
    "plt.ylabel('Valor')\n",
    "plt.title('Comparación de Modelos SVM')\n",
    "plt.xticks(x + width, metrics_to_plot)\n",
    "plt.legend()\n",
    "plt.grid(True, alpha=0.3)\n",
    "plt.tight_layout()\n",
    "plt.show()"
   ]
  }
 ],
 "metadata": {
  "kernelspec": {
   "display_name": "Python 3",
   "language": "python",
   "name": "python3"
  },
  "language_info": {
   "codemirror_mode": {
    "name": "ipython",
    "version": 3
   },
   "file_extension": ".py",
   "mimetype": "text/x-python",
   "name": "python",
   "nbconvert_exporter": "python",
   "pygments_lexer": "ipython3",
   "version": "3.12.3"
  }
 },
 "nbformat": 4,
 "nbformat_minor": 5
}
