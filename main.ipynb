{
 "cells": [
  {
   "cell_type": "code",
   "execution_count": 1,
   "metadata": {},
   "outputs": [],
   "source": [
    "import pandas as pd"
   ]
  },
  {
   "cell_type": "markdown",
   "metadata": {},
   "source": [
    "#### Decripción del Problema\n",
    "\n",
    "Fraude con tarjetas de crédito: análisis y prevención.\n",
    "\n",
    "El fraude con tarjetas de crédito representa una amenaza significativa para la integridad de las transacciones financieras y la confianza de los consumidores en el comercio digital. A medida que la dependencia de las tarjetas de crédito para las compras diarias continúa creciendo, también lo hace la sofisticación de los estafadores que explotan las vulnerabilidades del sistema. Este proyecto tiene como objetivo analizar los patrones de fraude con tarjetas de crédito, comprender los factores que contribuyen a las actividades fraudulentas y explorar métodos efectivos para la detección y prevención."
   ]
  },
  {
   "cell_type": "markdown",
   "metadata": {},
   "source": [
    "#### Credit Card Fraud Dataset\n",
    "\n",
    "El **Credit Card Fraud Dataset** es un conjunto de datos que comprende 100.000 transacciones generadas para simular la actividad de las tarjetas de crédito en el mundo real. Cada entrada incluye las siguientes características:\n",
    "\n",
    "- **TransactionID**:  Un identificador único para cada transacción, que garantiza la trazabilidad.\n",
    "- **TransactionDate**: la fecha y hora en que se produjo la transacción, lo que permite el análisis temporal.\n",
    "- **Amount**: el valor monetario de la transacción, que puede ayudar a identificar transacciones inusualmente grandes que pueden indicar fraude.\n",
    "- **MerchantID**: Un identificador para el comerciante involucrado en la transacción, útil para evaluar patrones de fraude relacionados con el comerciante.\n",
    "- **TransactionType**: indica si la transacción fue una compra o un reembolso, proporcionando contexto para la actividad.\n",
    "- **Location**: La ubicación geográfica de la transacción, lo que facilita el análisis de las tendencias de fraude por región.\n",
    "- **IsFraud**: una variable objetivo binaria que indica si la transacción es fraudulenta (1) o legítima (0), esencial para los modelos de aprendizaje supervisado."
   ]
  },
  {
   "cell_type": "code",
   "execution_count": 7,
   "metadata": {},
   "outputs": [
    {
     "data": {
      "text/html": [
       "<div>\n",
       "<style scoped>\n",
       "    .dataframe tbody tr th:only-of-type {\n",
       "        vertical-align: middle;\n",
       "    }\n",
       "\n",
       "    .dataframe tbody tr th {\n",
       "        vertical-align: top;\n",
       "    }\n",
       "\n",
       "    .dataframe thead th {\n",
       "        text-align: right;\n",
       "    }\n",
       "</style>\n",
       "<table border=\"1\" class=\"dataframe\">\n",
       "  <thead>\n",
       "    <tr style=\"text-align: right;\">\n",
       "      <th></th>\n",
       "      <th>TransactionID</th>\n",
       "      <th>TransactionDate</th>\n",
       "      <th>Amount</th>\n",
       "      <th>MerchantID</th>\n",
       "      <th>TransactionType</th>\n",
       "      <th>Location</th>\n",
       "      <th>IsFraud</th>\n",
       "    </tr>\n",
       "  </thead>\n",
       "  <tbody>\n",
       "    <tr>\n",
       "      <th>0</th>\n",
       "      <td>1</td>\n",
       "      <td>2024-04-03 14:15:35.462794</td>\n",
       "      <td>4189.27</td>\n",
       "      <td>688</td>\n",
       "      <td>refund</td>\n",
       "      <td>San Antonio</td>\n",
       "      <td>0</td>\n",
       "    </tr>\n",
       "    <tr>\n",
       "      <th>1</th>\n",
       "      <td>2</td>\n",
       "      <td>2024-03-19 13:20:35.462824</td>\n",
       "      <td>2659.71</td>\n",
       "      <td>109</td>\n",
       "      <td>refund</td>\n",
       "      <td>Dallas</td>\n",
       "      <td>0</td>\n",
       "    </tr>\n",
       "    <tr>\n",
       "      <th>2</th>\n",
       "      <td>3</td>\n",
       "      <td>2024-01-08 10:08:35.462834</td>\n",
       "      <td>784.00</td>\n",
       "      <td>394</td>\n",
       "      <td>purchase</td>\n",
       "      <td>New York</td>\n",
       "      <td>0</td>\n",
       "    </tr>\n",
       "    <tr>\n",
       "      <th>3</th>\n",
       "      <td>4</td>\n",
       "      <td>2024-04-13 23:50:35.462850</td>\n",
       "      <td>3514.40</td>\n",
       "      <td>944</td>\n",
       "      <td>purchase</td>\n",
       "      <td>Philadelphia</td>\n",
       "      <td>0</td>\n",
       "    </tr>\n",
       "    <tr>\n",
       "      <th>4</th>\n",
       "      <td>5</td>\n",
       "      <td>2024-07-12 18:51:35.462858</td>\n",
       "      <td>369.07</td>\n",
       "      <td>475</td>\n",
       "      <td>purchase</td>\n",
       "      <td>Phoenix</td>\n",
       "      <td>0</td>\n",
       "    </tr>\n",
       "  </tbody>\n",
       "</table>\n",
       "</div>"
      ],
      "text/plain": [
       "   TransactionID             TransactionDate   Amount  MerchantID  \\\n",
       "0              1  2024-04-03 14:15:35.462794  4189.27         688   \n",
       "1              2  2024-03-19 13:20:35.462824  2659.71         109   \n",
       "2              3  2024-01-08 10:08:35.462834   784.00         394   \n",
       "3              4  2024-04-13 23:50:35.462850  3514.40         944   \n",
       "4              5  2024-07-12 18:51:35.462858   369.07         475   \n",
       "\n",
       "  TransactionType      Location  IsFraud  \n",
       "0          refund   San Antonio        0  \n",
       "1          refund        Dallas        0  \n",
       "2        purchase      New York        0  \n",
       "3        purchase  Philadelphia        0  \n",
       "4        purchase       Phoenix        0  "
      ]
     },
     "execution_count": 7,
     "metadata": {},
     "output_type": "execute_result"
    }
   ],
   "source": [
    "data = pd.read_csv(\"./data/credit_card_fraud_dataset.csv\")\n",
    "data.head()"
   ]
  }
 ],
 "metadata": {
  "kernelspec": {
   "display_name": "Python 3",
   "language": "python",
   "name": "python3"
  },
  "language_info": {
   "codemirror_mode": {
    "name": "ipython",
    "version": 3
   },
   "file_extension": ".py",
   "mimetype": "text/x-python",
   "name": "python",
   "nbconvert_exporter": "python",
   "pygments_lexer": "ipython3",
   "version": "3.12.3"
  }
 },
 "nbformat": 4,
 "nbformat_minor": 2
}
