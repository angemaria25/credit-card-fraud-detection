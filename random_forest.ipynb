{
 "cells": [
  {
   "cell_type": "code",
   "execution_count": 1,
   "metadata": {},
   "outputs": [],
   "source": [
    "from sklearn.model_selection import train_test_split\n",
    "from sklearn.preprocessing import StandardScaler\n",
    "\n",
    "from sklearn.ensemble import RandomForestClassifier\n",
    "from sklearn.model_selection import GridSearchCV\n",
    "from imblearn.under_sampling import RandomUnderSampler\n",
    "from sklearn.metrics import make_scorer, f1_score, classification_report, confusion_matrix, recall_score, precision_recall_fscore_support\n",
    "\n",
    "import pandas as pd \n",
    "import numpy as np\n",
    "import matplotlib.pyplot as plt\n",
    "\n",
    "from utils import print_score\n",
    "\n",
    "import warnings\n",
    "warnings.filterwarnings('ignore')"
   ]
  },
  {
   "cell_type": "code",
   "execution_count": 2,
   "metadata": {},
   "outputs": [
    {
     "data": {
      "text/html": [
       "<div>\n",
       "<style scoped>\n",
       "    .dataframe tbody tr th:only-of-type {\n",
       "        vertical-align: middle;\n",
       "    }\n",
       "\n",
       "    .dataframe tbody tr th {\n",
       "        vertical-align: top;\n",
       "    }\n",
       "\n",
       "    .dataframe thead th {\n",
       "        text-align: right;\n",
       "    }\n",
       "</style>\n",
       "<table border=\"1\" class=\"dataframe\">\n",
       "  <thead>\n",
       "    <tr style=\"text-align: right;\">\n",
       "      <th></th>\n",
       "      <th>Time</th>\n",
       "      <th>V1</th>\n",
       "      <th>V2</th>\n",
       "      <th>V3</th>\n",
       "      <th>V4</th>\n",
       "      <th>V5</th>\n",
       "      <th>V6</th>\n",
       "      <th>V7</th>\n",
       "      <th>V8</th>\n",
       "      <th>V9</th>\n",
       "      <th>...</th>\n",
       "      <th>V21</th>\n",
       "      <th>V22</th>\n",
       "      <th>V23</th>\n",
       "      <th>V24</th>\n",
       "      <th>V25</th>\n",
       "      <th>V26</th>\n",
       "      <th>V27</th>\n",
       "      <th>V28</th>\n",
       "      <th>Amount</th>\n",
       "      <th>Class</th>\n",
       "    </tr>\n",
       "  </thead>\n",
       "  <tbody>\n",
       "    <tr>\n",
       "      <th>0</th>\n",
       "      <td>0.0</td>\n",
       "      <td>-1.359807</td>\n",
       "      <td>-0.072781</td>\n",
       "      <td>2.536347</td>\n",
       "      <td>1.378155</td>\n",
       "      <td>-0.338321</td>\n",
       "      <td>0.462388</td>\n",
       "      <td>0.239599</td>\n",
       "      <td>0.098698</td>\n",
       "      <td>0.363787</td>\n",
       "      <td>...</td>\n",
       "      <td>-0.018307</td>\n",
       "      <td>0.277838</td>\n",
       "      <td>-0.110474</td>\n",
       "      <td>0.066928</td>\n",
       "      <td>0.128539</td>\n",
       "      <td>-0.189115</td>\n",
       "      <td>0.133558</td>\n",
       "      <td>-0.021053</td>\n",
       "      <td>149.62</td>\n",
       "      <td>0</td>\n",
       "    </tr>\n",
       "    <tr>\n",
       "      <th>1</th>\n",
       "      <td>0.0</td>\n",
       "      <td>1.191857</td>\n",
       "      <td>0.266151</td>\n",
       "      <td>0.166480</td>\n",
       "      <td>0.448154</td>\n",
       "      <td>0.060018</td>\n",
       "      <td>-0.082361</td>\n",
       "      <td>-0.078803</td>\n",
       "      <td>0.085102</td>\n",
       "      <td>-0.255425</td>\n",
       "      <td>...</td>\n",
       "      <td>-0.225775</td>\n",
       "      <td>-0.638672</td>\n",
       "      <td>0.101288</td>\n",
       "      <td>-0.339846</td>\n",
       "      <td>0.167170</td>\n",
       "      <td>0.125895</td>\n",
       "      <td>-0.008983</td>\n",
       "      <td>0.014724</td>\n",
       "      <td>2.69</td>\n",
       "      <td>0</td>\n",
       "    </tr>\n",
       "    <tr>\n",
       "      <th>2</th>\n",
       "      <td>1.0</td>\n",
       "      <td>-1.358354</td>\n",
       "      <td>-1.340163</td>\n",
       "      <td>1.773209</td>\n",
       "      <td>0.379780</td>\n",
       "      <td>-0.503198</td>\n",
       "      <td>1.800499</td>\n",
       "      <td>0.791461</td>\n",
       "      <td>0.247676</td>\n",
       "      <td>-1.514654</td>\n",
       "      <td>...</td>\n",
       "      <td>0.247998</td>\n",
       "      <td>0.771679</td>\n",
       "      <td>0.909412</td>\n",
       "      <td>-0.689281</td>\n",
       "      <td>-0.327642</td>\n",
       "      <td>-0.139097</td>\n",
       "      <td>-0.055353</td>\n",
       "      <td>-0.059752</td>\n",
       "      <td>378.66</td>\n",
       "      <td>0</td>\n",
       "    </tr>\n",
       "    <tr>\n",
       "      <th>3</th>\n",
       "      <td>1.0</td>\n",
       "      <td>-0.966272</td>\n",
       "      <td>-0.185226</td>\n",
       "      <td>1.792993</td>\n",
       "      <td>-0.863291</td>\n",
       "      <td>-0.010309</td>\n",
       "      <td>1.247203</td>\n",
       "      <td>0.237609</td>\n",
       "      <td>0.377436</td>\n",
       "      <td>-1.387024</td>\n",
       "      <td>...</td>\n",
       "      <td>-0.108300</td>\n",
       "      <td>0.005274</td>\n",
       "      <td>-0.190321</td>\n",
       "      <td>-1.175575</td>\n",
       "      <td>0.647376</td>\n",
       "      <td>-0.221929</td>\n",
       "      <td>0.062723</td>\n",
       "      <td>0.061458</td>\n",
       "      <td>123.50</td>\n",
       "      <td>0</td>\n",
       "    </tr>\n",
       "    <tr>\n",
       "      <th>4</th>\n",
       "      <td>2.0</td>\n",
       "      <td>-1.158233</td>\n",
       "      <td>0.877737</td>\n",
       "      <td>1.548718</td>\n",
       "      <td>0.403034</td>\n",
       "      <td>-0.407193</td>\n",
       "      <td>0.095921</td>\n",
       "      <td>0.592941</td>\n",
       "      <td>-0.270533</td>\n",
       "      <td>0.817739</td>\n",
       "      <td>...</td>\n",
       "      <td>-0.009431</td>\n",
       "      <td>0.798278</td>\n",
       "      <td>-0.137458</td>\n",
       "      <td>0.141267</td>\n",
       "      <td>-0.206010</td>\n",
       "      <td>0.502292</td>\n",
       "      <td>0.219422</td>\n",
       "      <td>0.215153</td>\n",
       "      <td>69.99</td>\n",
       "      <td>0</td>\n",
       "    </tr>\n",
       "  </tbody>\n",
       "</table>\n",
       "<p>5 rows × 31 columns</p>\n",
       "</div>"
      ],
      "text/plain": [
       "   Time        V1        V2        V3        V4        V5        V6        V7  \\\n",
       "0   0.0 -1.359807 -0.072781  2.536347  1.378155 -0.338321  0.462388  0.239599   \n",
       "1   0.0  1.191857  0.266151  0.166480  0.448154  0.060018 -0.082361 -0.078803   \n",
       "2   1.0 -1.358354 -1.340163  1.773209  0.379780 -0.503198  1.800499  0.791461   \n",
       "3   1.0 -0.966272 -0.185226  1.792993 -0.863291 -0.010309  1.247203  0.237609   \n",
       "4   2.0 -1.158233  0.877737  1.548718  0.403034 -0.407193  0.095921  0.592941   \n",
       "\n",
       "         V8        V9  ...       V21       V22       V23       V24       V25  \\\n",
       "0  0.098698  0.363787  ... -0.018307  0.277838 -0.110474  0.066928  0.128539   \n",
       "1  0.085102 -0.255425  ... -0.225775 -0.638672  0.101288 -0.339846  0.167170   \n",
       "2  0.247676 -1.514654  ...  0.247998  0.771679  0.909412 -0.689281 -0.327642   \n",
       "3  0.377436 -1.387024  ... -0.108300  0.005274 -0.190321 -1.175575  0.647376   \n",
       "4 -0.270533  0.817739  ... -0.009431  0.798278 -0.137458  0.141267 -0.206010   \n",
       "\n",
       "        V26       V27       V28  Amount  Class  \n",
       "0 -0.189115  0.133558 -0.021053  149.62      0  \n",
       "1  0.125895 -0.008983  0.014724    2.69      0  \n",
       "2 -0.139097 -0.055353 -0.059752  378.66      0  \n",
       "3 -0.221929  0.062723  0.061458  123.50      0  \n",
       "4  0.502292  0.219422  0.215153   69.99      0  \n",
       "\n",
       "[5 rows x 31 columns]"
      ]
     },
     "execution_count": 2,
     "metadata": {},
     "output_type": "execute_result"
    }
   ],
   "source": [
    "data = pd.read_csv(\"./data/creditcard.csv\")\n",
    "data.head()"
   ]
  },
  {
   "cell_type": "code",
   "execution_count": 3,
   "metadata": {},
   "outputs": [],
   "source": [
    "X = data.drop('Class', axis=1)\n",
    "y = data['Class']\n",
    "\n",
    "X_train_full, X_test, y_train_full, y_test = train_test_split(X, y, test_size=0.20, random_state=42)\n",
    "\n",
    "X_train, X_val, y_train, y_val = train_test_split(X_train_full, y_train_full, test_size=0.20, random_state=42)"
   ]
  },
  {
   "cell_type": "code",
   "execution_count": null,
   "metadata": {},
   "outputs": [],
   "source": [
    "scaler = StandardScaler()\n",
    "X_train_scaled = scaler.fit_transform(X_train)\n",
    "X_val_scaled = scaler.fit_transform(X_val)\n",
    "X_test_scaled = scaler.transform(X_test)"
   ]
  },
  {
   "cell_type": "markdown",
   "metadata": {},
   "source": [
    "**Modelo Base de Random Forest** "
   ]
  },
  {
   "cell_type": "code",
   "execution_count": 4,
   "metadata": {},
   "outputs": [
    {
     "name": "stdout",
     "output_type": "stream",
     "text": [
      "Train Result:\n",
      "================================================\n",
      "Accuracy Score: 99.98%\n",
      "_______________________________________________\n",
      "CLASSIFICATION REPORT:\n",
      "                     0           1  accuracy    macro avg  weighted avg\n",
      "precision     0.999833    1.000000  0.999848     0.999917      0.999849\n",
      "recall        1.000000    0.998333  0.999848     0.999167      0.999848\n",
      "f1-score      0.999917    0.999166  0.999848     0.999541      0.999848\n",
      "support    6000.000000  600.000000  0.999848  6600.000000   6600.000000\n",
      "_______________________________________________\n",
      "Confusion Matrix: \n",
      " [[6000    0]\n",
      " [   1  599]]\n",
      "\n",
      "Validation Result:\n",
      "================================================\n",
      "Accuracy Score: 90.86%\n",
      "_______________________________________________\n",
      "CLASSIFICATION REPORT:\n",
      "                     0      1  accuracy    macro avg  weighted avg\n",
      "precision     0.909050    0.0  0.908636     0.454525      0.826409\n",
      "recall        0.999500    0.0  0.908636     0.499750      0.908636\n",
      "f1-score      0.952131    0.0  0.908636     0.476066      0.865574\n",
      "support    2000.000000  200.0  0.908636  2200.000000   2200.000000\n",
      "_______________________________________________\n",
      "Confusion Matrix: \n",
      " [[1999    1]\n",
      " [ 200    0]]\n",
      "\n"
     ]
    }
   ],
   "source": [
    "modelo = RandomForestClassifier(random_state=42)\n",
    "modelo.fit(X_train, y_train)\n",
    "\n",
    "print_score(modelo, X_train, y_train, X_val, y_val, train=True)\n",
    "print_score(modelo, X_train, y_train, X_val, y_val, train=False)"
   ]
  },
  {
   "cell_type": "markdown",
   "metadata": {},
   "source": [
    "> El modelo base Random Forest con sus parámetros por defecto, sufre de `sobreajuste` (overfitting), lo que significa que ha vuelto un experto en memorizar los datos de entrenamiento, pero no es capaz de detectar ningún fraude en datos que nunca ha visto, lo cual lo convierte en un modelo inútil."
   ]
  },
  {
   "cell_type": "code",
   "execution_count": 5,
   "metadata": {},
   "outputs": [
    {
     "name": "stdout",
     "output_type": "stream",
     "text": [
      "El modelo tiene 100 árboles.\n",
      "------------------------------\n",
      "Profundidad máxima encontrada: 33\n",
      "Profundidad mínima encontrada: 21\n",
      "Profundidad promedio: 25.85\n",
      "\n",
      "Profundidades de los primeros 10 árboles:\n",
      "[22, 23, 22, 22, 24, 25, 23, 23, 27, 24]\n"
     ]
    }
   ],
   "source": [
    "#modelo.estimators_ es una lista de todos los árboles de decisión entrenados\n",
    "profundidades = [arbol.get_depth() for arbol in modelo.estimators_]\n",
    "\n",
    "print(f\"El modelo tiene {len(profundidades)} árboles.\")\n",
    "print(\"-\" * 30)\n",
    "print(f\"Profundidad máxima encontrada: {max(profundidades)}\")\n",
    "print(f\"Profundidad mínima encontrada: {min(profundidades)}\")\n",
    "print(f\"Profundidad promedio: {np.mean(profundidades):.2f}\")\n",
    "\n",
    "print(\"\\nProfundidades de los primeros 10 árboles:\")\n",
    "print(profundidades[:10])"
   ]
  },
  {
   "cell_type": "markdown",
   "metadata": {},
   "source": [
    "> El modelo cuenta con 100 árboles, esto árboles tienen una profundidad máxima de 33, la mínima de 21 y el promedio es de casi 26 niveles.\n",
    ">\n",
    "> Al no ponerle límites (max_depth=None) a los árboles, se permitió que cada árbol creciera sin control, lo que los llevó a seguir bajando y hacer preguntas muy específicas permitiendoles ser demasiados detallados, lo cual les permite aprende hasta el mínimo detalle y memorizarlo, por eso es que el modelo funciona tan bien en entrenamiento pero es pésimo en validación, porque son datos que nunca a visto, el modelo solo memoriza no sabe generalizar."
   ]
  },
  {
   "cell_type": "markdown",
   "metadata": {},
   "source": [
    "**Podar árboles:** Limitar la profundidad y que cada hoja tenga un número mínimo de ejemplos."
   ]
  },
  {
   "cell_type": "code",
   "execution_count": 6,
   "metadata": {},
   "outputs": [
    {
     "name": "stdout",
     "output_type": "stream",
     "text": [
      "Train Result:\n",
      "================================================\n",
      "Accuracy Score: 90.91%\n",
      "_______________________________________________\n",
      "CLASSIFICATION REPORT:\n",
      "                     0      1  accuracy    macro avg  weighted avg\n",
      "precision     0.909091    0.0  0.909091     0.454545      0.826446\n",
      "recall        1.000000    0.0  0.909091     0.500000      0.909091\n",
      "f1-score      0.952381    0.0  0.909091     0.476190      0.865801\n",
      "support    6000.000000  600.0  0.909091  6600.000000   6600.000000\n",
      "_______________________________________________\n",
      "Confusion Matrix: \n",
      " [[6000    0]\n",
      " [ 600    0]]\n",
      "\n",
      "Validation Result:\n",
      "================================================\n",
      "Accuracy Score: 90.91%\n",
      "_______________________________________________\n",
      "CLASSIFICATION REPORT:\n",
      "                     0      1  accuracy    macro avg  weighted avg\n",
      "precision     0.909091    0.0  0.909091     0.454545      0.826446\n",
      "recall        1.000000    0.0  0.909091     0.500000      0.909091\n",
      "f1-score      0.952381    0.0  0.909091     0.476190      0.865801\n",
      "support    2000.000000  200.0  0.909091  2200.000000   2200.000000\n",
      "_______________________________________________\n",
      "Confusion Matrix: \n",
      " [[2000    0]\n",
      " [ 200    0]]\n",
      "\n"
     ]
    }
   ],
   "source": [
    "modelo_mejorado = RandomForestClassifier(max_depth=10, min_samples_leaf=10, min_samples_split=10, random_state=42)\n",
    "modelo_mejorado.fit(X_train, y_train)\n",
    "\n",
    "print_score(modelo_mejorado, X_train, y_train, X_val, y_val, train=True)\n",
    "print_score(modelo_mejorado, X_train, y_train, X_val, y_val, train=False)"
   ]
  },
  {
   "cell_type": "markdown",
   "metadata": {},
   "source": [
    "> Al podar los árboles con max_depth, min_samples_leaf y min_samples_split, se ha resuelto el problema del sobreajuste, sin embargo, al hacerlo, se ha vuelto al problema inicial de nuestros datos, el desbalance de clases. El modelo actual, aunque ya no memoriza, sigue siendo incapaz de identificar el fraude, lo que lo mantiene siendo un modelo inútil.\n",
    ">\n",
    "> Ahora que el modelo no puede memorizar casos específicos (debido a la poda), se ve forzado a aprender reglas generales. Dado que la clase fraude, es la clase minoritaria, la estrategia por la que opta el modelo es ignorar por completo a la clase con menor cantidda e muestras, el algoritmo concluye que el costo de equivocarse al intentar predecir un fraude es mayor que el beneficio de acertar, por lo que adopta la política de siempre predecir la clase mayoritaria. "
   ]
  },
  {
   "cell_type": "markdown",
   "metadata": {},
   "source": [
    "**class_weight='balanced'**"
   ]
  },
  {
   "cell_type": "code",
   "execution_count": 7,
   "metadata": {},
   "outputs": [
    {
     "name": "stdout",
     "output_type": "stream",
     "text": [
      "Train Result:\n",
      "================================================\n",
      "Accuracy Score: 94.68%\n",
      "_______________________________________________\n",
      "CLASSIFICATION REPORT:\n",
      "                     0           1  accuracy    macro avg  weighted avg\n",
      "precision     0.970672    0.707846  0.946818     0.839259      0.946778\n",
      "recall        0.970833    0.706667  0.946818     0.838750      0.946818\n",
      "f1-score      0.970752    0.707256  0.946818     0.839004      0.946798\n",
      "support    6000.000000  600.000000  0.946818  6600.000000   6600.000000\n",
      "_______________________________________________\n",
      "Confusion Matrix: \n",
      " [[5825  175]\n",
      " [ 176  424]]\n",
      "\n",
      "Validation Result:\n",
      "================================================\n",
      "Accuracy Score: 86.32%\n",
      "_______________________________________________\n",
      "CLASSIFICATION REPORT:\n",
      "                     0           1  accuracy    macro avg  weighted avg\n",
      "precision     0.908217    0.075630  0.863182     0.491924      0.832527\n",
      "recall        0.945000    0.045000  0.863182     0.495000      0.863182\n",
      "f1-score      0.926244    0.056426  0.863182     0.491335      0.847169\n",
      "support    2000.000000  200.000000  0.863182  2200.000000   2200.000000\n",
      "_______________________________________________\n",
      "Confusion Matrix: \n",
      " [[1890  110]\n",
      " [ 191    9]]\n",
      "\n"
     ]
    }
   ],
   "source": [
    "modelo_balanceado = RandomForestClassifier(max_depth=10, min_samples_leaf=10, min_samples_split=10, class_weight='balanced', random_state=42)\n",
    "modelo_balanceado.fit(X_train, y_train)\n",
    "\n",
    "print_score(modelo_balanceado, X_train, y_train, X_val, y_val, train=True)\n",
    "print_score(modelo_balanceado, X_train, y_train, X_val, y_val, train=False)"
   ]
  },
  {
   "cell_type": "markdown",
   "metadata": {},
   "source": [
    "> Al combinar la regularización para controlar el sobreajuste con el parámetro class_weight='balanced' para atacar el desbalanceo, el modelo ha aprendido a identificar transacciones fraudulentas, se ha pasado de un modelo que ignoraba por completo el fraude (Recall de 0.0) a uno que lo detecta, sin embargo, los resultados actuales generan muchas falsas alarmas, y todavía no es capaz de identificar correctamente todos los verdaderos positivos."
   ]
  },
  {
   "cell_type": "markdown",
   "metadata": {},
   "source": [
    "**Ajuste de hiperpárametros**"
   ]
  },
  {
   "cell_type": "code",
   "execution_count": 12,
   "metadata": {},
   "outputs": [
    {
     "name": "stdout",
     "output_type": "stream",
     "text": [
      "Fitting 5 folds for each of 36 candidates, totalling 180 fits\n",
      "Mejores parámetros encontrados:\n",
      "{'max_depth': 7, 'max_features': 'sqrt', 'min_samples_leaf': 15, 'n_estimators': 100}\n",
      "Mejor F1-score durante la validación cruzada:\n",
      "0.10188426898197005\n",
      "Reporte de Clasificación en Validación\n",
      "              precision    recall  f1-score   support\n",
      "\n",
      "           0       0.91      0.88      0.89      2000\n",
      "           1       0.12      0.17      0.14       200\n",
      "\n",
      "    accuracy                           0.81      2200\n",
      "   macro avg       0.51      0.52      0.52      2200\n",
      "weighted avg       0.84      0.81      0.82      2200\n",
      "\n",
      "[[1750  250]\n",
      " [ 167   33]]\n"
     ]
    }
   ],
   "source": [
    "rf_model = RandomForestClassifier(class_weight='balanced', random_state=42)\n",
    "\n",
    "param_grid = {\n",
    "    'n_estimators': [100, 200],         \n",
    "    'max_depth': [7, 10, 15],           \n",
    "    'min_samples_leaf': [10, 15, 20], \n",
    "    'max_features': ['sqrt', 'log2']    \n",
    "}\n",
    "\n",
    "f1_scorer = make_scorer(f1_score, pos_label=1)\n",
    "\n",
    "grid_search = GridSearchCV(\n",
    "    estimator=rf_model,\n",
    "    param_grid=param_grid,\n",
    "    scoring=f1_scorer,  \n",
    "    cv=5,\n",
    "    n_jobs=-1,\n",
    "    verbose=2\n",
    ")\n",
    "\n",
    "grid_search.fit(X_train, y_train)\n",
    "\n",
    "print(\"Mejores parámetros encontrados:\")\n",
    "print(grid_search.best_params_)\n",
    "\n",
    "print(\"Mejor F1-score durante la validación cruzada:\")\n",
    "print(grid_search.best_score_)\n",
    "\n",
    "best_rf_model = grid_search.best_estimator_\n",
    "\n",
    "y_pred_val = best_rf_model.predict(X_val)\n",
    "print(\"Reporte de Clasificación en Validación\")\n",
    "\n",
    "print(classification_report(y_val, y_pred_val))\n",
    "print(confusion_matrix(y_val, y_pred_val))"
   ]
  },
  {
   "cell_type": "markdown",
   "metadata": {},
   "source": [
    "**Ajuste de umbral**"
   ]
  },
  {
   "cell_type": "code",
   "execution_count": null,
   "metadata": {},
   "outputs": [
    {
     "data": {
      "image/png": "[encoded data removed]",
      "text/plain": [
       "<Figure size 1000x600 with 1 Axes>"
      ]
     },
     "metadata": {},
     "output_type": "display_data"
    },
    {
     "name": "stdout",
     "output_type": "stream",
     "text": [
      "Mejor umbral: 0.364\n",
      "Precision: 0.0924\n",
      "Recall: 0.9850\n",
      "F1-score: 0.1689\n"
     ]
    }
   ],
   "source": [
    "probas_val = best_rf_model.predict_proba(X_val)[:, 1]  \n",
    "\n",
    "thresholds = np.linspace(0, 1, 100)\n",
    "precision_list, recall_list, f1_list = [], [], []\n",
    "\n",
    "for t in thresholds:\n",
    "    y_pred_t = (probas_val >= t).astype(int)\n",
    "    precision, recall, f1, _ = precision_recall_fscore_support(\n",
    "        y_val, y_pred_t, average='binary', pos_label=1\n",
    "    )\n",
    "    precision_list.append(precision)\n",
    "    recall_list.append(recall)\n",
    "    f1_list.append(f1)\n",
    "\n",
    "plt.figure(figsize=(10, 6))\n",
    "plt.plot(thresholds, precision_list, label=\"Precision\")\n",
    "plt.plot(thresholds, recall_list, label=\"Recall\")\n",
    "plt.plot(thresholds, f1_list, label=\"F1 Score\")\n",
    "plt.axvline(x=0.5, linestyle='--', color='gray', label=\"Umbral por defecto\")\n",
    "plt.xlabel(\"Umbral\")\n",
    "plt.ylabel(\"Métrica\")\n",
    "plt.title(\"Ajuste del umbral - Random Forest\")\n",
    "plt.legend()\n",
    "plt.grid(True)\n",
    "plt.ylim(0, 1)\n",
    "plt.show()\n",
    "\n",
    "best_idx = np.argmax(f1_list)\n",
    "best_thresh = thresholds[best_idx]\n",
    "\n",
    "print(f\"Mejor umbral: {best_thresh:.3f}\")\n",
    "print(f\"Precision: {precision_list[best_idx]:.4f}\")\n",
    "print(f\"Recall: {recall_list[best_idx]:.4f}\")\n",
    "print(f\"F1-score: {f1_list[best_idx]:.4f}\")"
   ]
  },
  {
   "cell_type": "code",
   "execution_count": 18,
   "metadata": {},
   "outputs": [
    {
     "name": "stdout",
     "output_type": "stream",
     "text": [
      "\n",
      "Evaluación con umbral ajustado\n",
      "              precision    recall  f1-score   support\n",
      "\n",
      "           0       0.96      0.03      0.06      2000\n",
      "           1       0.09      0.98      0.17       200\n",
      "\n",
      "    accuracy                           0.12      2200\n",
      "   macro avg       0.52      0.51      0.12      2200\n",
      "weighted avg       0.88      0.12      0.07      2200\n",
      "\n",
      "Matriz de confusión:\n",
      " [[  64 1936]\n",
      " [   3  197]]\n"
     ]
    }
   ],
   "source": [
    "y_pred_opt = (probas_val >= best_thresh).astype(int)\n",
    "\n",
    "print(\"\\nEvaluación con umbral ajustado\")\n",
    "print(classification_report(y_val, y_pred_opt))\n",
    "print(\"Matriz de confusión:\\n\", confusion_matrix(y_val, y_pred_opt))\n"
   ]
  },
  {
   "cell_type": "code",
   "execution_count": 19,
   "metadata": {},
   "outputs": [
    {
     "name": "stdout",
     "output_type": "stream",
     "text": [
      "\n",
      "Evaluación final en conjunto de prueba con umbral ajustado\n",
      "              precision    recall  f1-score   support\n",
      "\n",
      "           0       0.86      0.04      0.07      2000\n",
      "           1       0.09      0.94      0.16       200\n",
      "\n",
      "    accuracy                           0.12      2200\n",
      "   macro avg       0.47      0.49      0.12      2200\n",
      "weighted avg       0.79      0.12      0.08      2200\n",
      "\n",
      "Matriz de confusión:\n",
      " [[  73 1927]\n",
      " [  12  188]]\n"
     ]
    }
   ],
   "source": [
    "probas_test = best_rf_model.predict_proba(X_test)[:, 1]\n",
    "y_pred_test = (probas_test >= best_thresh).astype(int)\n",
    "\n",
    "print(\"\\nEvaluación final en conjunto de prueba con umbral ajustado\")\n",
    "print(classification_report(y_test, y_pred_test))\n",
    "print(\"Matriz de confusión:\\n\", confusion_matrix(y_test, y_pred_test))\n"
   ]
  },
  {
   "cell_type": "markdown",
   "metadata": {},
   "source": [
    "**SMOTE**"
   ]
  },
  {
   "cell_type": "code",
   "execution_count": null,
   "metadata": {},
   "outputs": [
    {
     "name": "stdout",
     "output_type": "stream",
     "text": [
      "Train Result:\n",
      "================================================\n",
      "Accuracy Score: 84.56%\n",
      "_______________________________________________\n",
      "CLASSIFICATION REPORT:\n",
      "                     0           1  accuracy    macro avg  weighted avg\n",
      "precision     0.927114    0.227568  0.845606     0.577341      0.863519\n",
      "recall        0.901000    0.291667  0.845606     0.596333      0.845606\n",
      "f1-score      0.913870    0.255661  0.845606     0.584766      0.854033\n",
      "support    6000.000000  600.000000  0.845606  6600.000000   6600.000000\n",
      "_______________________________________________\n",
      "Confusion Matrix: \n",
      " [[5406  594]\n",
      " [ 425  175]]\n",
      "\n",
      "Validation Result:\n",
      "================================================\n",
      "Accuracy Score: 81.41%\n",
      "_______________________________________________\n",
      "CLASSIFICATION REPORT:\n",
      "                     0           1  accuracy    macro avg  weighted avg\n",
      "precision     0.907322    0.076923  0.814091     0.492123      0.831831\n",
      "recall        0.886000    0.095000  0.814091     0.490500      0.814091\n",
      "f1-score      0.896534    0.085011  0.814091     0.490773      0.822759\n",
      "support    2000.000000  200.000000  0.814091  2200.000000   2200.000000\n",
      "_______________________________________________\n",
      "Confusion Matrix: \n",
      " [[1772  228]\n",
      " [ 181   19]]\n",
      "\n"
     ]
    }
   ],
   "source": [
    "from imblearn.over_sampling import SMOTE\n",
    "from imblearn.pipeline import Pipeline as ImbPipeline\n",
    "\n",
    "pipeline_smote = ImbPipeline([\n",
    "    ('smote', SMOTE(random_state=42)),\n",
    "    ('classifier', RandomForestClassifier(max_depth=10, min_samples_leaf=10, random_state=42))\n",
    "])\n",
    "pipeline_smote.fit(X_train, y_train)\n",
    "\n",
    "print_score(pipeline_smote, X_train, y_train, X_val, y_val, train=True)\n",
    "print_score(pipeline_smote, X_train, y_train, X_val, y_val, train=False)"
   ]
  },
  {
   "cell_type": "markdown",
   "metadata": {},
   "source": [
    "**Ajustar hiperpárametros**"
   ]
  },
  {
   "cell_type": "code",
   "execution_count": 21,
   "metadata": {},
   "outputs": [
    {
     "name": "stdout",
     "output_type": "stream",
     "text": [
      "Iniciando GridSearchCV con Pipeline de SMOTE...\n",
      "Fitting 5 folds for each of 24 candidates, totalling 120 fits\n",
      "\n",
      "Mejores parámetros para el Pipeline con SMOTE:\n",
      "{'classifier__max_depth': 8, 'classifier__max_features': 'sqrt', 'classifier__min_samples_leaf': 15, 'classifier__n_estimators': 150}\n",
      "\n",
      "Mejor F1-score durante la validación cruzada:\n",
      "0.0932162214437369\n",
      "\n",
      "--- Reporte de Clasificación en Validación con el Pipeline Optimizado ---\n",
      "              precision    recall  f1-score   support\n",
      "\n",
      "           0       0.91      0.83      0.87      2000\n",
      "           1       0.08      0.14      0.10       200\n",
      "\n",
      "    accuracy                           0.77      2200\n",
      "   macro avg       0.49      0.49      0.48      2200\n",
      "weighted avg       0.83      0.77      0.80      2200\n",
      "\n",
      "[[1661  339]\n",
      " [ 171   29]]\n"
     ]
    }
   ],
   "source": [
    "from imblearn.over_sampling import SMOTE\n",
    "from imblearn.pipeline import Pipeline as ImbPipeline\n",
    "\n",
    "pipeline = ImbPipeline([\n",
    "    ('smote', SMOTE(random_state=42)),\n",
    "    ('classifier', RandomForestClassifier(random_state=42))\n",
    "])\n",
    "\n",
    "param_grid = {\n",
    "    'classifier__n_estimators': [150, 250],\n",
    "    'classifier__max_depth': [8, 12, 16],        \n",
    "    'classifier__min_samples_leaf': [10, 15],    \n",
    "    'classifier__max_features': ['sqrt', 0.5]  \n",
    "}\n",
    "\n",
    "f1_scorer = make_scorer(f1_score, pos_label=1)\n",
    "\n",
    "grid_search_smote = GridSearchCV(\n",
    "    estimator=pipeline,\n",
    "    param_grid=param_grid,\n",
    "    scoring=f1_scorer,\n",
    "    cv=5, \n",
    "    n_jobs=-1,\n",
    "    verbose=2\n",
    ")\n",
    "\n",
    "print(\"Iniciando GridSearchCV con Pipeline de SMOTE...\")\n",
    "grid_search_smote.fit(X_train, y_train)\n",
    "\n",
    "print(\"\\nMejores parámetros para el Pipeline con SMOTE:\")\n",
    "print(grid_search_smote.best_params_)\n",
    "\n",
    "print(\"\\nMejor F1-score durante la validación cruzada:\")\n",
    "print(grid_search_smote.best_score_)\n",
    "\n",
    "best_pipeline_model = grid_search_smote.best_estimator_\n",
    "y_pred_val = best_pipeline_model.predict(X_val)\n",
    "\n",
    "print(\"\\n--- Reporte de Clasificación en Validación con el Pipeline Optimizado ---\")\n",
    "print(classification_report(y_val, y_pred_val))\n",
    "print(confusion_matrix(y_val, y_pred_val))"
   ]
  },
  {
   "cell_type": "markdown",
   "metadata": {},
   "source": [
    "**Ajustar umbral**"
   ]
  },
  {
   "cell_type": "code",
   "execution_count": null,
   "metadata": {},
   "outputs": [
    {
     "data": {
      "image/png": "[encoded data removed]",
      "text/plain": [
       "<Figure size 1000x600 with 1 Axes>"
      ]
     },
     "metadata": {},
     "output_type": "display_data"
    },
    {
     "name": "stdout",
     "output_type": "stream",
     "text": [
      "Umbral óptimo: 0.111\n",
      "Precision: 0.0910\n",
      "Recall: 1.0000\n",
      "F1-score: 0.1667\n"
     ]
    }
   ],
   "source": [
    "probas_val = best_pipeline_model.predict_proba(X_val)[:, 1]\n",
    "\n",
    "thresholds = np.linspace(0, 1, 100)\n",
    "precision_list, recall_list, f1_list = [], [], []\n",
    "\n",
    "for t in thresholds:\n",
    "    y_pred_thresh = (probas_val >= t).astype(int)\n",
    "    precision, recall, f1, _ = precision_recall_fscore_support(\n",
    "        y_val, y_pred_thresh, average='binary', pos_label=1\n",
    "    )\n",
    "    precision_list.append(precision)\n",
    "    recall_list.append(recall)\n",
    "    f1_list.append(f1)\n",
    "\n",
    "plt.figure(figsize=(10, 6))\n",
    "plt.plot(thresholds, precision_list, label=\"Precision\")\n",
    "plt.plot(thresholds, recall_list, label=\"Recall\")\n",
    "plt.plot(thresholds, f1_list, label=\"F1-score\")\n",
    "plt.axvline(x=0.5, linestyle='--', color='gray', label=\"Umbral por defecto\")\n",
    "plt.xlabel(\"Umbral\")\n",
    "plt.ylabel(\"Métrica\")\n",
    "plt.title(\"Ajuste de umbral - RF con SMOTE\")\n",
    "plt.legend()\n",
    "plt.grid(True)\n",
    "plt.ylim(0, 1)\n",
    "plt.show()\n",
    "\n",
    "best_idx = np.argmax(f1_list)\n",
    "best_thresh = thresholds[best_idx]\n",
    "\n",
    "print(f\"Umbral óptimo: {best_thresh:.3f}\")\n",
    "print(f\"Precision: {precision_list[best_idx]:.4f}\")\n",
    "print(f\"Recall: {recall_list[best_idx]:.4f}\")\n",
    "print(f\"F1-score: {f1_list[best_idx]:.4f}\")"
   ]
  },
  {
   "cell_type": "code",
   "execution_count": 23,
   "metadata": {},
   "outputs": [
    {
     "name": "stdout",
     "output_type": "stream",
     "text": [
      "\n",
      "Evaluación en validación con umbral ajustado\n",
      "              precision    recall  f1-score   support\n",
      "\n",
      "           0       1.00      0.00      0.00      2000\n",
      "           1       0.09      1.00      0.17       200\n",
      "\n",
      "    accuracy                           0.09      2200\n",
      "   macro avg       0.55      0.50      0.08      2200\n",
      "weighted avg       0.92      0.09      0.02      2200\n",
      "\n",
      "Matriz de confusión:\n",
      " [[   1 1999]\n",
      " [   0  200]]\n"
     ]
    }
   ],
   "source": [
    "y_pred_val_thresh = (probas_val >= best_thresh).astype(int)\n",
    "\n",
    "print(\"\\nEvaluación en validación con umbral ajustado\")\n",
    "print(classification_report(y_val, y_pred_val_thresh))\n",
    "print(\"Matriz de confusión:\\n\", confusion_matrix(y_val, y_pred_val_thresh))"
   ]
  },
  {
   "cell_type": "markdown",
   "metadata": {},
   "source": [
    "**Undersampling**"
   ]
  },
  {
   "cell_type": "code",
   "execution_count": 9,
   "metadata": {},
   "outputs": [
    {
     "name": "stdout",
     "output_type": "stream",
     "text": [
      "Distribución original: [6000  600]\n",
      "Distribución después del undersampling: [600 600]\n"
     ]
    },
    {
     "name": "stdout",
     "output_type": "stream",
     "text": [
      "Train Result:\n",
      "================================================\n",
      "Accuracy Score: 100.00%\n",
      "_______________________________________________\n",
      "CLASSIFICATION REPORT:\n",
      "               0      1  accuracy  macro avg  weighted avg\n",
      "precision    1.0    1.0       1.0        1.0           1.0\n",
      "recall       1.0    1.0       1.0        1.0           1.0\n",
      "f1-score     1.0    1.0       1.0        1.0           1.0\n",
      "support    600.0  600.0       1.0     1200.0        1200.0\n",
      "_______________________________________________\n",
      "Confusion Matrix: \n",
      " [[600   0]\n",
      " [  0 600]]\n",
      "\n",
      "Validation Result:\n",
      "================================================\n",
      "Accuracy Score: 50.14%\n",
      "_______________________________________________\n",
      "CLASSIFICATION REPORT:\n",
      "                     0           1  accuracy    macro avg  weighted avg\n",
      "precision     0.908597    0.090411  0.501364     0.499504      0.834217\n",
      "recall        0.502000    0.495000  0.501364     0.498500      0.501364\n",
      "f1-score      0.646699    0.152896  0.501364     0.399797      0.601808\n",
      "support    2000.000000  200.000000  0.501364  2200.000000   2200.000000\n",
      "_______________________________________________\n",
      "Confusion Matrix: \n",
      " [[1004  996]\n",
      " [ 101   99]]\n",
      "\n"
     ]
    }
   ],
   "source": [
    "print(\"Distribución original:\", np.bincount(y_train))\n",
    "\n",
    "undersampler = RandomUnderSampler(random_state=42)\n",
    "X_under, y_under = undersampler.fit_resample(X_train, y_train)\n",
    "\n",
    "print(\"Distribución después del undersampling:\", np.bincount(y_under))\n",
    "\n",
    "rf_under = RandomForestClassifier(n_estimators=100, random_state=42)\n",
    "rf_under.fit(X_under, y_under)\n",
    "\n",
    "print_score(rf_under, X_under, y_under, X_val, y_val, train=True)\n",
    "print_score(rf_under, X_train, y_train, X_val, y_val, train=False)\n"
   ]
  },
  {
   "cell_type": "markdown",
   "metadata": {},
   "source": [
    "**Ajuste de hiperparámetros**"
   ]
  },
  {
   "cell_type": "code",
   "execution_count": 26,
   "metadata": {},
   "outputs": [
    {
     "name": "stdout",
     "output_type": "stream",
     "text": [
      "Distribución original: [6000  600]\n",
      "Distribución después del undersampling: [600 600]\n",
      "Iniciando búsqueda de hiperparámetros...\n",
      "Fitting 5 folds for each of 24 candidates, totalling 120 fits\n"
     ]
    },
    {
     "name": "stdout",
     "output_type": "stream",
     "text": [
      "\n",
      "Mejores parámetros encontrados:\n",
      "{'max_depth': 6, 'max_features': 0.5, 'min_samples_leaf': 15, 'n_estimators': 100}\n"
     ]
    }
   ],
   "source": [
    "print(\"Distribución original:\", np.bincount(y_train))\n",
    "\n",
    "undersampler = RandomUnderSampler(random_state=42)\n",
    "X_under, y_under = undersampler.fit_resample(X_train, y_train)\n",
    "\n",
    "print(\"Distribución después del undersampling:\", np.bincount(y_under))\n",
    "\n",
    "param_grid = {\n",
    "    'n_estimators': [100, 150],\n",
    "    'max_depth': [6, 8, 10],\n",
    "    'min_samples_leaf': [10, 15],\n",
    "    'max_features': ['sqrt', 0.5]\n",
    "}\n",
    "\n",
    "rf = RandomForestClassifier(random_state=42)\n",
    "f1_scorer = make_scorer(f1_score, pos_label=1)\n",
    "\n",
    "grid_search_rf = GridSearchCV(\n",
    "    rf,\n",
    "    param_grid=param_grid,\n",
    "    scoring=f1_scorer,\n",
    "    cv=5,\n",
    "    n_jobs=-1,\n",
    "    verbose=2\n",
    ")\n",
    "\n",
    "print(\"Iniciando búsqueda de hiperparámetros...\")\n",
    "grid_search_rf.fit(X_under, y_under)\n",
    "\n",
    "best_rf_under = grid_search_rf.best_estimator_\n",
    "print(\"\\nMejores parámetros encontrados:\")\n",
    "print(grid_search_rf.best_params_)\n"
   ]
  },
  {
   "cell_type": "markdown",
   "metadata": {},
   "source": [
    "**Ajuste de umbral**"
   ]
  },
  {
   "cell_type": "code",
   "execution_count": 27,
   "metadata": {},
   "outputs": [
    {
     "data": {
      "image/png": "[encoded data removed]",
      "text/plain": [
       "<Figure size 1000x600 with 1 Axes>"
      ]
     },
     "metadata": {},
     "output_type": "display_data"
    },
    {
     "name": "stdout",
     "output_type": "stream",
     "text": [
      "\n",
      "Mejor umbral: 0.343\n",
      "Precision: 0.0914, Recall: 0.9950, F1-score: 0.1674\n"
     ]
    }
   ],
   "source": [
    "probas_val = best_rf_under.predict_proba(X_val)[:, 1]\n",
    "\n",
    "thresholds = np.linspace(0, 1, 100)\n",
    "precision_list, recall_list, f1_list = [], [], []\n",
    "\n",
    "for t in thresholds:\n",
    "    y_pred_t = (probas_val >= t).astype(int)\n",
    "    precision, recall, f1, _ = precision_recall_fscore_support(\n",
    "        y_val, y_pred_t, average='binary', pos_label=1\n",
    "    )\n",
    "    precision_list.append(precision)\n",
    "    recall_list.append(recall)\n",
    "    f1_list.append(f1)\n",
    "\n",
    "plt.figure(figsize=(10, 6))\n",
    "plt.plot(thresholds, precision_list, label='Precision')\n",
    "plt.plot(thresholds, recall_list, label='Recall')\n",
    "plt.plot(thresholds, f1_list, label='F1 Score')\n",
    "plt.axvline(x=0.5, linestyle='--', color='gray', label='Umbral por defecto')\n",
    "plt.xlabel(\"Umbral\")\n",
    "plt.ylabel(\"Métrica\")\n",
    "plt.title(\"Ajuste de umbral - RF + Undersampling\")\n",
    "plt.legend()\n",
    "plt.grid(True)\n",
    "plt.ylim(0, 1)\n",
    "plt.show()\n",
    "\n",
    "best_idx = np.argmax(f1_list)\n",
    "best_thresh = thresholds[best_idx]\n",
    "print(f\"\\nMejor umbral: {best_thresh:.3f}\")\n",
    "print(f\"Precision: {precision_list[best_idx]:.4f}, Recall: {recall_list[best_idx]:.4f}, F1-score: {f1_list[best_idx]:.4f}\")"
   ]
  },
  {
   "cell_type": "code",
   "execution_count": null,
   "metadata": {},
   "outputs": [
    {
     "name": "stdout",
     "output_type": "stream",
     "text": [
      "\n",
      "Evaluación en validación con umbral ajustado\n",
      "              precision    recall  f1-score   support\n",
      "\n",
      "           0       0.95      0.01      0.02      2000\n",
      "           1       0.09      0.99      0.17       200\n",
      "\n",
      "    accuracy                           0.10      2200\n",
      "   macro avg       0.52      0.50      0.09      2200\n",
      "weighted avg       0.88      0.10      0.03      2200\n",
      "\n",
      "Matriz de confusión:\n",
      " [[  21 1979]\n",
      " [   1  199]]\n"
     ]
    }
   ],
   "source": [
    "y_pred_val_thresh = (probas_val >= best_thresh).astype(int)\n",
    "\n",
    "print(\"\\nEvaluación en validación con umbral ajustado\")\n",
    "print(classification_report(y_val, y_pred_val_thresh))\n",
    "print(\"Matriz de confusión:\\n\", confusion_matrix(y_val, y_pred_val_thresh))"
   ]
  },
  {
   "cell_type": "code",
   "execution_count": 29,
   "metadata": {},
   "outputs": [
    {
     "name": "stdout",
     "output_type": "stream",
     "text": [
      "\n",
      "Evaluación final en prueba con umbral ajustado\n",
      "              precision    recall  f1-score   support\n",
      "\n",
      "           0       0.84      0.01      0.02      2000\n",
      "           1       0.09      0.98      0.17       200\n",
      "\n",
      "    accuracy                           0.10      2200\n",
      "   macro avg       0.47      0.50      0.09      2200\n",
      "weighted avg       0.77      0.10      0.03      2200\n",
      "\n",
      "Matriz de confusión:\n",
      " [[  16 1984]\n",
      " [   3  197]]\n"
     ]
    }
   ],
   "source": [
    "probas_test = best_rf_under.predict_proba(X_test)[:, 1]\n",
    "y_pred_test_thresh = (probas_test >= best_thresh).astype(int)\n",
    "\n",
    "print(\"\\nEvaluación final en prueba con umbral ajustado\")\n",
    "print(classification_report(y_test, y_pred_test_thresh))\n",
    "print(\"Matriz de confusión:\\n\", confusion_matrix(y_test, y_pred_test_thresh))"
   ]
  },
  {
   "cell_type": "markdown",
   "metadata": {},
   "source": [
    "Evaluación en el conjunto de prueba (con ajuste de umbral para maximizar F1-score en la clase fraude):_\n",
    "\n",
    "| Técnica                      | Precision (fraude) | Recall (fraude) | F1-score (fraude) | Accuracy global |\n",
    "|------------------------------|--------------------|------------------|-------------------|-----------------|\n",
    "|  class_weight='balanced'     | 0.09               | 0.94             | 0.16              | 0.12            |\n",
    "|  SMOTE                       | 0.09               | 1.00             | 0.17              | 0.09            |\n",
    "|  Undersampling               | 0.09               | 0.98             | 0.17              | 0.10            |"
   ]
  },
  {
   "cell_type": "markdown",
   "metadata": {},
   "source": [
    "> Los tres modelos logran detectar una alta proporción de fraudes (recall cercano al 100%) gracias al ajuste del umbral, sin embargo, todos lo hacen a costa de una gran cantidad de falsos positivos, lo que reduce notablemente la precisión y la utilidad del modelo en producción.\n",
    "\n",
    "El modelo con SMOTE y el de Undersampling obtienen el mayor F1-score (0.17), aunque la diferencia con class_weight='balanced' es mínima, en términos de balance entre recall y precisión, ningún modelo logra una precisión aceptable (> 10%) por lo que en términos de mejor recall el mejor modelo es SMOTE."
   ]
  }
 ],
 "metadata": {
  "kernelspec": {
   "display_name": "Python 3",
   "language": "python",
   "name": "python3"
  },
  "language_info": {
   "codemirror_mode": {
    "name": "ipython",
    "version": 3
   },
   "file_extension": ".py",
   "mimetype": "text/x-python",
   "name": "python",
   "nbconvert_exporter": "python",
   "pygments_lexer": "ipython3",
   "version": "3.12.3"
  }
 },
 "nbformat": 4,
 "nbformat_minor": 2
}
